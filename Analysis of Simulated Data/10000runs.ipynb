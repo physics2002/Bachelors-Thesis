{
 "cells": [
  {
   "cell_type": "code",
   "execution_count": 1,
   "id": "ce55345c",
   "metadata": {},
   "outputs": [
    {
     "name": "stdout",
     "output_type": "stream",
     "text": [
      "Welcome to JupyROOT 6.26/00\n"
     ]
    }
   ],
   "source": [
    "from ROOT import *\n",
    "import numpy as np"
   ]
  },
  {
   "cell_type": "code",
   "execution_count": 2,
   "id": "1734630f",
   "metadata": {},
   "outputs": [],
   "source": [
    "file = TFile.Open(\"10000runs6g.root\", \"READ\")\n",
    "tree = []\n",
    "for i in range(20):\n",
    "    a = file.Get(\"Position\"+str(i+1))\n",
    "    tree.append(a)\n",
    "\n",
    "hist = []\n",
    "for i in range(20):\n",
    "    h = TH1F(\"number of photons per run \"+str(i+1), \"\", 10000, 0, 10000)\n",
    "    hist.append(h)"
   ]
  },
  {
   "cell_type": "code",
   "execution_count": 3,
   "id": "d65bd268",
   "metadata": {},
   "outputs": [],
   "source": [
    "FZX = np.empty((len(tree),), dtype=object)\n",
    "FY = np.empty((len(tree),), dtype=object)\n",
    "\n",
    "for i in range(len(tree)):\n",
    "    AZX = []\n",
    "    AY = []\n",
    "    for entry in tree[i]:\n",
    "        hist[i].Fill(entry.N)\n",
    "        AZX.append(entry.fZX)\n",
    "        AY.append(entry.fY)\n",
    "    FZX[i] = np.array(AZX)\n",
    "    FY[i] = np.array(AY)"
   ]
  },
  {
   "cell_type": "code",
   "execution_count": 276,
   "id": "22d9e292",
   "metadata": {},
   "outputs": [],
   "source": [
    "FZXY = []\n",
    "for i in range(20):\n",
    "    S = 0 \n",
    "    fzxy = []\n",
    "    for j in range(9000,10000):\n",
    "        C = []\n",
    "        for k in range(S, S + int(hist[i].GetBinContent(j+1))):\n",
    "            S = S + 1\n",
    "            C.append((FZX[i][k], FY[i][k]))\n",
    "        fzxy.append(C)\n",
    "    FZXY.append(fzxy)"
   ]
  },
  {
   "cell_type": "code",
   "execution_count": 277,
   "id": "34156436",
   "metadata": {},
   "outputs": [],
   "source": [
    "FZXY_NEW = []\n",
    "for i in range(20):\n",
    "    FZXY_new = []\n",
    "    for j in range(1000):\n",
    "        FZXY_new.append(list(set(FZXY[i][j])))\n",
    "    FZXY_NEW.append(FZXY_new)"
   ]
  },
  {
   "cell_type": "code",
   "execution_count": 278,
   "id": "5661acfb",
   "metadata": {},
   "outputs": [],
   "source": [
    "Z2D = []\n",
    "X2D = []"
   ]
  },
  {
   "cell_type": "code",
   "execution_count": 279,
   "id": "68c2127d",
   "metadata": {},
   "outputs": [],
   "source": [
    "for i in range(20):\n",
    "    if i%2 == 0:\n",
    "        ZZ = []\n",
    "        for j in range(1000):\n",
    "            ZZZ = []\n",
    "            for k in range(len(FZXY_NEW[i][j])):\n",
    "                Center_chan = (4*(floor(FZXY_NEW[i][j][k][0]/0.023)+1)-2)*0.00575*10000\n",
    "                ZZZ.append(Center_chan)\n",
    "            ZZ.append([[x,ZZZ.count(x)] for x in set(ZZZ)])\n",
    "        Z2D.append(ZZ)\n",
    "    else:\n",
    "        XX = []\n",
    "        for m in range(1000):\n",
    "            XXX = []\n",
    "            for n in range(len(FZXY_NEW[i][m])):\n",
    "                Center_chan = (4*(floor(FZXY_NEW[i][m][n][0]/0.023)+1)-2)*0.00575*10000\n",
    "                XXX.append(Center_chan)\n",
    "            XX.append([[z,XXX.count(z)] for z in set(XXX)])\n",
    "        X2D.append(XX)"
   ]
  },
  {
   "cell_type": "code",
   "execution_count": 280,
   "id": "9f4b8795",
   "metadata": {},
   "outputs": [
    {
     "name": "stdout",
     "output_type": "stream",
     "text": [
      "30705.0\n"
     ]
    }
   ],
   "source": [
    "b = []\n",
    "for i in range(1000):\n",
    "    for j in range(len(Z2D[9][i])):\n",
    "        b.append(Z2D[9][i][j][0])\n",
    "print(max(b))"
   ]
  },
  {
   "cell_type": "code",
   "execution_count": 281,
   "id": "1e057725",
   "metadata": {},
   "outputs": [],
   "source": [
    "for r in range(1000):\n",
    "    for i in range(10):\n",
    "        for j in range(len(Z2D[i][r])):\n",
    "            chan_num = 225-round((30705.0+230*9-Z2D[i][r][j][0])/230 + 1)\n",
    "            Z2D[i][r][j][0] = chan_num"
   ]
  },
  {
   "cell_type": "code",
   "execution_count": 282,
   "id": "3581478f",
   "metadata": {},
   "outputs": [],
   "source": [
    "for r in range(1000):\n",
    "    for i in range(10):\n",
    "        for j in range(len(Z2D[i][r])):\n",
    "            Z2D[i][r].sort()"
   ]
  },
  {
   "cell_type": "code",
   "execution_count": 283,
   "id": "d29978b1",
   "metadata": {},
   "outputs": [
    {
     "data": {
      "text/plain": [
       "[[185, 2], [186, 19], [187, 10], [188, 17], [189, 6]]"
      ]
     },
     "execution_count": 283,
     "metadata": {},
     "output_type": "execute_result"
    }
   ],
   "source": [
    "Z2D[7][481]"
   ]
  },
  {
   "cell_type": "code",
   "execution_count": 284,
   "id": "b1875add",
   "metadata": {},
   "outputs": [],
   "source": [
    "Z9 = []\n",
    "for i in range(1000):\n",
    "    Mean = 0\n",
    "    Sig = 0\n",
    "    for j in range(len(Z2D[9][i])):\n",
    "        if Z2D[9][i][j][0] >= 211 and Z2D[9][i][j][0] <= 216:\n",
    "            Mean = Mean + Z2D[9][i][j][0]*Z2D[9][i][j][1]\n",
    "            Sig = Sig + Z2D[9][i][j][1]\n",
    "    if Sig != 0:\n",
    "        Z9.append(Mean/Sig)\n",
    "    else:\n",
    "        Z9.append(0)"
   ]
  },
  {
   "cell_type": "code",
   "execution_count": 285,
   "id": "e6624e73",
   "metadata": {},
   "outputs": [],
   "source": [
    "Z8 = []\n",
    "l=8\n",
    "for i in range(1000):\n",
    "    Mean = 0\n",
    "    Sig = 0\n",
    "    for j in range(len(Z2D[l][i])):\n",
    "        if Z2D[l][i][j][0] >= 198 and Z2D[l][i][j][0] <= 201:\n",
    "            Mean = Mean + Z2D[l][i][j][0]*Z2D[l][i][j][1]\n",
    "            Sig = Sig + Z2D[l][i][j][1]\n",
    "    if Sig != 0:\n",
    "        Z8.append(Mean/Sig)\n",
    "    else:\n",
    "        Z8.append(0)"
   ]
  },
  {
   "cell_type": "code",
   "execution_count": 286,
   "id": "4dad1e31",
   "metadata": {},
   "outputs": [],
   "source": [
    "Z7 = []\n",
    "l=7\n",
    "for i in range(1000):\n",
    "    Mean = 0\n",
    "    Sig = 0\n",
    "    for j in range(len(Z2D[l][i])):\n",
    "        if Z2D[l][i][j][0] >= 185 and Z2D[l][i][j][0] <= 188:\n",
    "            Mean = Mean + Z2D[l][i][j][0]*Z2D[l][i][j][1]\n",
    "            Sig = Sig + Z2D[l][i][j][1]\n",
    "    if Sig != 0:\n",
    "        Z7.append(Mean/Sig)\n",
    "    else:\n",
    "        Z7.append(0)"
   ]
  },
  {
   "cell_type": "code",
   "execution_count": 287,
   "id": "20e6afa4",
   "metadata": {},
   "outputs": [],
   "source": [
    "Z6 = []\n",
    "l=6\n",
    "for i in range(1000):\n",
    "    Mean = 0\n",
    "    Sig = 0\n",
    "    for j in range(len(Z2D[l][i])):\n",
    "        if Z2D[l][i][j][0] >= 170 and Z2D[l][i][j][0] <= 175:\n",
    "            Mean = Mean + Z2D[l][i][j][0]*Z2D[l][i][j][1]\n",
    "            Sig = Sig + Z2D[l][i][j][1]\n",
    "    if Sig != 0:\n",
    "        Z6.append(Mean/Sig)\n",
    "    else:\n",
    "        Z6.append(0)\n",
    "\n",
    "Z5 = []\n",
    "l=5\n",
    "for i in range(1000):\n",
    "    Mean = 0\n",
    "    Sig = 0\n",
    "    for j in range(len(Z2D[l][i])):\n",
    "        if Z2D[l][i][j][0] >= 157 and Z2D[l][i][j][0] <= 161:\n",
    "            Mean = Mean + Z2D[l][i][j][0]*Z2D[l][i][j][1]\n",
    "            Sig = Sig + Z2D[l][i][j][1]\n",
    "    if Sig != 0:\n",
    "        Z5.append(Mean/Sig)\n",
    "    else:\n",
    "        Z5.append(0)\n",
    "\n",
    "Z4 = []\n",
    "l=4\n",
    "for i in range(1000):\n",
    "    Mean = 0\n",
    "    Sig = 0\n",
    "    for j in range(len(Z2D[l][i])):\n",
    "        if Z2D[l][i][j][0] >= 144 and Z2D[l][i][j][0] <= 148:\n",
    "            Mean = Mean + Z2D[l][i][j][0]*Z2D[l][i][j][1]\n",
    "            Sig = Sig + Z2D[l][i][j][1]\n",
    "    if Sig != 0:\n",
    "        Z4.append(Mean/Sig)\n",
    "    else:\n",
    "        Z4.append(0)\n",
    "\n",
    "Z3 = []\n",
    "l=3\n",
    "for i in range(1000):\n",
    "    Mean = 0\n",
    "    Sig = 0\n",
    "    for j in range(len(Z2D[l][i])):\n",
    "        if Z2D[l][i][j][0] >= 131 and Z2D[l][i][j][0] <= 135:\n",
    "            Mean = Mean + Z2D[l][i][j][0]*Z2D[l][i][j][1]\n",
    "            Sig = Sig + Z2D[l][i][j][1]\n",
    "    if Sig != 0:\n",
    "        Z3.append(Mean/Sig)\n",
    "    else:\n",
    "        Z3.append(0)\n",
    "\n",
    "Z2 = []\n",
    "l=2\n",
    "for i in range(1000):\n",
    "    Mean = 0\n",
    "    Sig = 0\n",
    "    for j in range(len(Z2D[l][i])):\n",
    "        if Z2D[l][i][j][0] >= 117 and Z2D[l][i][j][0] <= 122:\n",
    "            Mean = Mean + Z2D[l][i][j][0]*Z2D[l][i][j][1]\n",
    "            Sig = Sig + Z2D[l][i][j][1]\n",
    "    if Sig != 0:\n",
    "        Z2.append(Mean/Sig)\n",
    "    else:\n",
    "        Z2.append(0)\n",
    "\n",
    "Z1 = []\n",
    "l=1\n",
    "for i in range(1000):\n",
    "    Mean = 0\n",
    "    Sig = 0\n",
    "    for j in range(len(Z2D[l][i])):\n",
    "        if Z2D[l][i][j][0] >= 104 and Z2D[l][i][j][0] <= 108:\n",
    "            Mean = Mean + Z2D[l][i][j][0]*Z2D[l][i][j][1]\n",
    "            Sig = Sig + Z2D[l][i][j][1]\n",
    "    if Sig != 0:\n",
    "        Z1.append(Mean/Sig)\n",
    "    else:\n",
    "        Z1.append(0)\n",
    "\n",
    "Z0 = []\n",
    "l=0\n",
    "for i in range(1000):\n",
    "    Mean = 0\n",
    "    Sig = 0\n",
    "    for j in range(len(Z2D[l][i])):\n",
    "        if Z2D[l][i][j][0] >= 91 and Z2D[l][i][j][0] <= 95:\n",
    "            Mean = Mean + Z2D[l][i][j][0]*Z2D[l][i][j][1]\n",
    "            Sig = Sig + Z2D[l][i][j][1]\n",
    "    if Sig != 0:\n",
    "        Z0.append(Mean/Sig)\n",
    "    else:\n",
    "        Z0.append(0)"
   ]
  },
  {
   "cell_type": "code",
   "execution_count": 288,
   "id": "e6862c0c",
   "metadata": {},
   "outputs": [],
   "source": [
    "Y = []\n",
    "delZ = 5\n",
    "for i in range(10):\n",
    "    Y.append(-39.4375+(i)*delZ)"
   ]
  },
  {
   "cell_type": "code",
   "execution_count": 289,
   "id": "3d098ac7",
   "metadata": {},
   "outputs": [],
   "source": [
    "LAYERS = []\n",
    "for i in range(1000):\n",
    "    L = [[Z0[i], Y[0]], [Z1[i], Y[1]], [Z2[i], Y[2]], [Z3[i], Y[3]], [Z4[i], Y[4]], [Z5[i], Y[5]], [Z6[i], Y[6]], [Z7[i], Y[7]], [Z8[i], Y[8]], [Z9[i], Y[9]]]\n",
    "    LAYERS.append(L)"
   ]
  },
  {
   "cell_type": "code",
   "execution_count": 290,
   "id": "965bfae3",
   "metadata": {},
   "outputs": [],
   "source": [
    "YMEAN = []\n",
    "ZMEAN = []\n",
    "for i in range(1000):\n",
    "    ZM = 0.\n",
    "    YM = 0.\n",
    "    NN = 0\n",
    "    for j in range(10):\n",
    "        if LAYERS[i][j][0] != 0:\n",
    "            ZM = ZM + LAYERS[i][j][0]\n",
    "            YM = YM + LAYERS[i][j][1]\n",
    "            NN = NN + 1\n",
    "    YMEAN.append(YM/NN)\n",
    "    ZMEAN.append(ZM/NN)"
   ]
  },
  {
   "cell_type": "code",
   "execution_count": 291,
   "id": "bc93a64a",
   "metadata": {},
   "outputs": [],
   "source": [
    "import math"
   ]
  },
  {
   "cell_type": "code",
   "execution_count": 292,
   "id": "fe4dc874",
   "metadata": {},
   "outputs": [],
   "source": [
    "angles = []\n",
    "k = []\n",
    "for i in range(1000):\n",
    "    denom = 0\n",
    "    numer = 0\n",
    "    zm = (30705.0+230*9 - 230*(225-ZMEAN[i]))/1000\n",
    "    ym = YMEAN[i]\n",
    "    for j in range(10):\n",
    "        if LAYERS[i][j][0] != 0:\n",
    "            zi = (30705.0+230*9 - 230*(225-LAYERS[i][j][0]))/1000\n",
    "            yi = LAYERS[i][j][1]\n",
    "            numer = numer + (zi - zm)*(yi - ym)\n",
    "            denom = denom + (zi - zm)*(zi - zm)\n",
    "    angles.append((180/math.pi)*math.atan(numer/denom))\n",
    "    k.append(numer/denom)"
   ]
  },
  {
   "cell_type": "code",
   "execution_count": 293,
   "id": "a96b29c8",
   "metadata": {},
   "outputs": [
    {
     "data": {
      "text/plain": [
       "58.52746759394996"
      ]
     },
     "execution_count": 293,
     "metadata": {},
     "output_type": "execute_result"
    }
   ],
   "source": [
    "angles[0]"
   ]
  },
  {
   "cell_type": "code",
   "execution_count": 294,
   "id": "83fdff2b",
   "metadata": {},
   "outputs": [
    {
     "name": "stderr",
     "output_type": "stream",
     "text": [
      "Warning in <TROOT::Append>: Replacing existing TH1: hang (Potential memory leak).\n"
     ]
    }
   ],
   "source": [
    "cc = TCanvas()\n",
    "hang = TH1F(\"hang\", \"\", 100, 58, 59)\n",
    "for i in range(1000):\n",
    "    hang.Fill(angles[i])\n",
    "hang.Draw()"
   ]
  },
  {
   "cell_type": "code",
   "execution_count": 295,
   "id": "927afef5",
   "metadata": {},
   "outputs": [
    {
     "data": {
      "image/png": "[encoded data removed]",
      "text/plain": [
       "<IPython.core.display.Image object>"
      ]
     },
     "metadata": {},
     "output_type": "display_data"
    }
   ],
   "source": [
    "cc.Draw()"
   ]
  },
  {
   "cell_type": "code",
   "execution_count": 296,
   "id": "d2b27f36",
   "metadata": {},
   "outputs": [
    {
     "data": {
      "text/plain": [
       "743"
      ]
     },
     "execution_count": 296,
     "metadata": {},
     "output_type": "execute_result"
    }
   ],
   "source": [
    "myFile = TFile.Open(\"histo1e4new.root\", \"UPDATE\")\n",
    "myFile.WriteObject(hang, \"hang10\")"
   ]
  },
  {
   "cell_type": "code",
   "execution_count": 297,
   "id": "169f3131",
   "metadata": {},
   "outputs": [],
   "source": [
    "myFile.Close()"
   ]
  },
  {
   "cell_type": "code",
   "execution_count": 298,
   "id": "5c65e228",
   "metadata": {},
   "outputs": [],
   "source": [
    "myFile = TFile.Open(\"histo1e4new.root\", \"READ\")"
   ]
  },
  {
   "cell_type": "code",
   "execution_count": 299,
   "id": "c0881ae8",
   "metadata": {},
   "outputs": [
    {
     "name": "stdout",
     "output_type": "stream",
     "text": [
      "TFile**\t\thisto1e4new.root\t\n",
      " TFile*\t\thisto1e4new.root\t\n",
      "  KEY: TH1F\thang1;1\tobject title\n",
      "  KEY: TH1F\thang2;1\tobject title\n",
      "  KEY: TH1F\thang3;1\tobject title\n",
      "  KEY: TH1F\thang4;1\tobject title\n",
      "  KEY: TH1F\thang5;1\tobject title\n",
      "  KEY: TH1F\thang6;1\tobject title\n",
      "  KEY: TH1F\thang7;1\tobject title\n",
      "  KEY: TH1F\thang8;1\tobject title\n",
      "  KEY: TH1F\thang9;1\tobject title\n",
      "  KEY: TH1F\thang10;1\tobject title\n"
     ]
    }
   ],
   "source": [
    "myFile.ls()"
   ]
  },
  {
   "cell_type": "code",
   "execution_count": 300,
   "id": "ee19fa17",
   "metadata": {},
   "outputs": [],
   "source": [
    "ccom = TCanvas()\n",
    "han1 = myFile.hang1\n",
    "han2 = myFile.hang2\n",
    "han3 = myFile.hang3\n",
    "han4 = myFile.hang4\n",
    "han5 = myFile.hang5\n",
    "han6 = myFile.hang6\n",
    "han7 = myFile.hang7\n",
    "han8 = myFile.hang8\n",
    "han9 = myFile.hang9\n",
    "han10 = myFile.hang10\n",
    "hanCom = han1+han2+han3+han4+han5+han6+han7+han8+han9+han10\n",
    "hanCom.Draw()"
   ]
  },
  {
   "cell_type": "code",
   "execution_count": 302,
   "id": "07beeb44",
   "metadata": {},
   "outputs": [
    {
     "data": {
      "image/png": "[encoded data removed]",
      "text/plain": [
       "<IPython.core.display.Image object>"
      ]
     },
     "metadata": {},
     "output_type": "display_data"
    }
   ],
   "source": [
    "#f = TF1(\"f\", \"gaus\", 20.54, 20.63)\n",
    "#hanCom.Fit(\"f\", \"R\")\n",
    "ccom.Draw()"
   ]
  },
  {
   "cell_type": "code",
   "execution_count": 303,
   "id": "0a29f250",
   "metadata": {},
   "outputs": [
    {
     "name": "stderr",
     "output_type": "stream",
     "text": [
      "Info in <TCanvas::SaveSource>: C++ Macro file: k10.C has been generated\n"
     ]
    }
   ],
   "source": [
    "ccom.SaveAs(\"k10.C\")"
   ]
  },
  {
   "cell_type": "code",
   "execution_count": 442,
   "id": "46b372fb",
   "metadata": {},
   "outputs": [
    {
     "name": "stdout",
     "output_type": "stream",
     "text": [
      "0.07893163940162963 0.0021508747531529004\n"
     ]
    }
   ],
   "source": [
    "print(f.GetParameter(2) * 2.336, f.GetParError(2) * 2.336)"
   ]
  },
  {
   "cell_type": "code",
   "execution_count": 443,
   "id": "3fad2ca8",
   "metadata": {},
   "outputs": [
    {
     "name": "stdout",
     "output_type": "stream",
     "text": [
      "11.120486623017559 6\n"
     ]
    }
   ],
   "source": [
    "print(f.GetChisquare(), f.GetNDF())"
   ]
  },
  {
   "cell_type": "code",
   "execution_count": 209,
   "id": "ce962f70",
   "metadata": {},
   "outputs": [],
   "source": [
    "layers = []\n",
    "for i in range(1000):\n",
    "    l = []\n",
    "    for j in range(10):\n",
    "        l.append(list([Z2D[j*1000+i], Y[j]]))\n",
    "    layers.append(l)"
   ]
  },
  {
   "cell_type": "code",
   "execution_count": 210,
   "id": "eec33277",
   "metadata": {},
   "outputs": [],
   "source": [
    "Z_mean = []\n",
    "for i in range(1000):\n",
    "    zmean = 0\n",
    "    for j in range(10):\n",
    "        zmean = zmean + layers[i][j][0]\n",
    "    Z_mean.append(zmean/10)"
   ]
  },
  {
   "cell_type": "code",
   "execution_count": 211,
   "id": "eb26030f",
   "metadata": {},
   "outputs": [],
   "source": [
    "ymean = 0\n",
    "for i in range(10):\n",
    "    ymean = ymean + Y[i]\n",
    "ymean = ymean/10"
   ]
  },
  {
   "cell_type": "code",
   "execution_count": 212,
   "id": "f2477079",
   "metadata": {},
   "outputs": [],
   "source": [
    "import math"
   ]
  },
  {
   "cell_type": "code",
   "execution_count": 213,
   "id": "69922693",
   "metadata": {},
   "outputs": [],
   "source": [
    "angles = []\n",
    "k = []\n",
    "for i in range(1000):\n",
    "    denom = 0\n",
    "    numer = 0\n",
    "    for j in range(10):\n",
    "        numer = numer + (layers[i][j][0]/1000 - Z_mean[i]/1000)*(layers[i][j][1] - ymean)\n",
    "        denom = denom + (layers[i][j][0]/1000 - Z_mean[i]/1000)*(layers[i][j][0]/1000 - Z_mean[i]/1000)\n",
    "    angles.append((180/math.pi)*math.atan(numer/denom))\n",
    "    k.append(numer/denom)"
   ]
  },
  {
   "cell_type": "code",
   "execution_count": 214,
   "id": "8ca07b3f",
   "metadata": {},
   "outputs": [],
   "source": [
    "b = []\n",
    "for i in range(1000):\n",
    "    Y = 0 \n",
    "    X = 0\n",
    "    for j in range(10):\n",
    "        Y = Y + layers[i][j][1]\n",
    "        X = X + layers[i][j][0]\n",
    "    b.append((Y-k[i]*X/1000)/10)\n",
    "\n",
    "chi = []\n",
    "for i in range(1000):\n",
    "    c = 0\n",
    "    for j in range(10):\n",
    "        c = c + (layers[i][j][1] - k[i]*layers[i][j][0]/1000 - b[i])**2\n",
    "    chi.append(c)\n",
    "\n",
    "AA1 = []\n",
    "I1 = []\n",
    "for i in range(1000):\n",
    "    if chi[i] > 0.1:\n",
    "        A = []\n",
    "        for j in range(10):\n",
    "            c = (layers[i][j][1] - k[i]*layers[i][j][0]/1000 -b[i])**2\n",
    "            A.append(c)\n",
    "        AA1.append([i,A])\n",
    "        I1.append(i)"
   ]
  },
  {
   "cell_type": "code",
   "execution_count": 215,
   "id": "e3f0f5a9",
   "metadata": {},
   "outputs": [],
   "source": [
    "Y = []\n",
    "delZ = 5\n",
    "for i in range(10):\n",
    "    Y.append(-39.4375+(i)*delZ)"
   ]
  },
  {
   "cell_type": "code",
   "execution_count": 216,
   "id": "f80d5c7a",
   "metadata": {},
   "outputs": [],
   "source": [
    "Z_mean = []\n",
    "for i in range(1000):\n",
    "    zmean = 0\n",
    "    if i not in I1:\n",
    "        for j in range(10):\n",
    "            zmean = zmean + layers[i][j][0]\n",
    "        Z_mean.append(zmean/10)\n",
    "    else:\n",
    "        for j in range(10):\n",
    "            if j != AA1[I1.index(i)][1].index(max(AA1[I1.index(i)][1])):\n",
    "                zmean = zmean + layers[i][j][0]\n",
    "        Z_mean.append(zmean/9)\n",
    "\n",
    "Y_mean = []\n",
    "for i in range(1000):\n",
    "    ymean = 0\n",
    "    if i not in I1:\n",
    "        for j in range(10):\n",
    "            ymean = ymean + Y[j]\n",
    "        Y_mean.append(ymean/10)\n",
    "    else:\n",
    "        for j in range(10):\n",
    "            if j != AA1[I1.index(i)][1].index(max(AA1[I1.index(i)][1])):\n",
    "                ymean = ymean + Y[j]\n",
    "        Y_mean.append(ymean/9)"
   ]
  },
  {
   "cell_type": "code",
   "execution_count": 217,
   "id": "7ab7ef6d",
   "metadata": {},
   "outputs": [],
   "source": [
    "angles2 = []\n",
    "k1 = []\n",
    "s = 0\n",
    "for i in range(1000):\n",
    "    if i not in I1:\n",
    "        denom = 0\n",
    "        numer = 0\n",
    "        for j in range(10):\n",
    "            numer = numer + (layers[i][j][0]/1000 - Z_mean[i]/1000)*(layers[i][j][1] - Y_mean[i])\n",
    "            denom = denom + (layers[i][j][0]/1000 - Z_mean[i]/1000)*(layers[i][j][0]/1000 - Z_mean[i]/1000)\n",
    "        angles2.append((180/math.pi)*math.atan(numer/denom))\n",
    "    else:\n",
    "        denom = 0\n",
    "        numer = 0\n",
    "        for j in range(10):\n",
    "            if j != AA1[s][1].index(max(AA1[s][1])):\n",
    "                numer = numer + (layers[i][j][0]/1000 - Z_mean[i]/1000)*(layers[i][j][1] - Y_mean[i])\n",
    "                denom = denom + (layers[i][j][0]/1000 - Z_mean[i]/1000)*(layers[i][j][0]/1000 - Z_mean[i]/1000)\n",
    "        angles2.append((180/math.pi)*math.atan(numer/denom))\n",
    "        k1.append(numer/denom)\n",
    "        s = s + 1"
   ]
  },
  {
   "cell_type": "code",
   "execution_count": 218,
   "id": "3a7c2be0",
   "metadata": {},
   "outputs": [],
   "source": [
    "b1 = []\n",
    "ss = 0\n",
    "for i in range(len(I1)):\n",
    "    Y = 0 \n",
    "    X = 0\n",
    "    for j in range(10):\n",
    "        if j != AA1[ss][1].index(max(AA1[ss][1])):\n",
    "            Y = Y + layers[I1[i]][j][1]\n",
    "            X = X + layers[I1[i]][j][0] #NOT i \n",
    "    b1.append((Y-k1[i]*X/1000)/9)\n",
    "    ss = ss + 1\n",
    "\n",
    "chi1 = []\n",
    "sss = 0\n",
    "for i in range(len(I1)):\n",
    "    c = 0\n",
    "    for j in range(10):\n",
    "        if j != AA1[sss][1].index(max(AA1[sss][1])):\n",
    "            c = c + (layers[I1[i]][j][1] - k1[i]*layers[I1[i]][j][0]/1000 - b1[i])**2\n",
    "    chi1.append(c)\n",
    "    sss = sss + 1\n",
    "\n",
    "AA2 = []\n",
    "I2 = []\n",
    "for i in range(len(chi1)):\n",
    "    if chi1[i] > 0.09:\n",
    "        A = []\n",
    "        for j in range(10):\n",
    "            if j == AA1[i][1].index(max(AA1[i][1])):\n",
    "                A.append(0)\n",
    "            else:\n",
    "                c = (layers[I1[i]][j][1] - k1[i]*layers[I1[i]][j][0]/1000 - b1[i])**2\n",
    "                A.append(c)\n",
    "        AA2.append([I1[i],A])\n",
    "        I2.append(I1[i])"
   ]
  },
  {
   "cell_type": "code",
   "execution_count": 219,
   "id": "19aea180",
   "metadata": {},
   "outputs": [],
   "source": [
    "Y = []\n",
    "delZ = 5\n",
    "for i in range(10):\n",
    "    Y.append(-39.4375+(i)*delZ)"
   ]
  },
  {
   "cell_type": "code",
   "execution_count": 220,
   "id": "3bb39a52",
   "metadata": {},
   "outputs": [],
   "source": [
    "Z_mean = []\n",
    "for i in range(1000):\n",
    "    zmean = 0\n",
    "    if i not in I1:\n",
    "        for j in range(10):\n",
    "            zmean = zmean + layers[i][j][0]\n",
    "        Z_mean.append(zmean/10)\n",
    "    elif i in set(I1)-set(I2):\n",
    "        for j in range(10):\n",
    "            if j != AA1[I1.index(i)][1].index(max(AA1[I1.index(i)][1])):\n",
    "                zmean = zmean + layers[i][j][0]\n",
    "        Z_mean.append(zmean/9)\n",
    "    else:\n",
    "        for j in range(10):\n",
    "            if j != AA2[I2.index(i)][1].index(0) and j != AA2[I2.index(i)][1].index(max(AA2[I2.index(i)][1])):\n",
    "                zmean = zmean + layers[i][j][0]\n",
    "        Z_mean.append(zmean/8)\n",
    "\n",
    "Y_mean = []\n",
    "for i in range(1000):\n",
    "    ymean = 0\n",
    "    if i not in I1:\n",
    "        for j in range(10):\n",
    "            ymean = ymean + Y[j]\n",
    "        Y_mean.append(ymean/10)\n",
    "    elif i in set(I1)-set(I2):\n",
    "        for j in range(10):\n",
    "            if j != AA1[I1.index(i)][1].index(max(AA1[I1.index(i)][1])):\n",
    "                ymean = ymean + Y[j]\n",
    "        Y_mean.append(ymean/9)\n",
    "    else:\n",
    "        for j in range(10):\n",
    "            if j != AA2[I2.index(i)][1].index(0) and j != AA2[I2.index(i)][1].index(max(AA2[I2.index(i)][1])):\n",
    "                ymean = ymean + Y[j]\n",
    "        Y_mean.append(ymean/8)"
   ]
  },
  {
   "cell_type": "code",
   "execution_count": 221,
   "id": "57d7e246",
   "metadata": {},
   "outputs": [],
   "source": [
    "angles3 = []\n",
    "k2 = []\n",
    "for i in range(1000):\n",
    "    if i not in I1:\n",
    "        denom = 0\n",
    "        numer = 0\n",
    "        for j in range(10):\n",
    "            numer = numer + (layers[i][j][0]/1000 - Z_mean[i]/1000)*(layers[i][j][1] - Y_mean[i])\n",
    "            denom = denom + (layers[i][j][0]/1000 - Z_mean[i]/1000)*(layers[i][j][0]/1000 - Z_mean[i]/1000)\n",
    "        angles3.append((180/math.pi)*math.atan(numer/denom))\n",
    "    elif i in set(I1)-set(I2):\n",
    "        denom = 0\n",
    "        numer = 0\n",
    "        for j in range(10):\n",
    "            if j != AA1[I1.index(i)][1].index(max(AA1[I1.index(i)][1])):\n",
    "                numer = numer + (layers[i][j][0]/1000 - Z_mean[i]/1000)*(layers[i][j][1] - Y_mean[i])\n",
    "                denom = denom + (layers[i][j][0]/1000 - Z_mean[i]/1000)*(layers[i][j][0]/1000 - Z_mean[i]/1000)\n",
    "        angles3.append((180/math.pi)*math.atan(numer/denom))\n",
    "    else:\n",
    "        denom = 0\n",
    "        numer = 0\n",
    "        for j in range(10):\n",
    "            if j != AA2[I2.index(i)][1].index(0) and j != AA2[I2.index(i)][1].index(max(AA2[I2.index(i)][1])):\n",
    "                numer = numer + (layers[i][j][0]/1000 - Z_mean[i]/1000)*(layers[i][j][1] - Y_mean[i])\n",
    "                denom = denom + (layers[i][j][0]/1000 - Z_mean[i]/1000)*(layers[i][j][0]/1000 - Z_mean[i]/1000)\n",
    "        angles3.append((180/math.pi)*math.atan(numer/denom))\n",
    "        k2.append(numer/denom)"
   ]
  },
  {
   "cell_type": "code",
   "execution_count": 222,
   "id": "6a52842f",
   "metadata": {},
   "outputs": [],
   "source": [
    "can = TCanvas()\n",
    "hangles = TH1F(\"han\", \"\", 100, 58, 59)\n",
    "hangles2 = TH1F(\"han2\", \"\", 100, 58, 59)\n",
    "hangles3 = TH1F(\"han3\", \"\", 100, 58, 59)\n",
    "\n",
    "for i in range(1000):\n",
    "    hangles.Fill(angles[i])\n",
    "    hangles2.Fill(angles2[i])\n",
    "    hangles3.Fill(angles3[i])\n",
    "\n",
    "gStyle.SetOptStat(0)\n",
    "hangles.GetXaxis().SetTitle(\"incident angle #theta, deg\")\n",
    "hangles.GetXaxis().CenterTitle(True)\n",
    "hangles.GetXaxis().SetTitleFont(132)\n",
    "hangles.GetXaxis().SetTitleSize(0.05)\n",
    "hangles.GetXaxis().SetLabelFont(132)\n",
    "hangles.GetYaxis().SetLabelFont(132)\n",
    "hangles.GetXaxis().SetLabelSize(0.05)\n",
    "hangles.GetYaxis().SetLabelSize(0.05)\n",
    "hangles.SetLineWidth(2)\n",
    "hangles.SetLineColor(8)\n",
    "hangles.SetFillColor(8)\n",
    "hangles.GetYaxis().SetRangeUser(0, 100)\n",
    "hangles.Draw()\n",
    "\n",
    "hangles2.GetXaxis().CenterTitle(True)\n",
    "hangles2.GetXaxis().SetTitleFont(132)\n",
    "hangles2.GetXaxis().SetTitleSize(0.05)\n",
    "hangles2.GetXaxis().SetLabelFont(132)\n",
    "hangles2.GetYaxis().SetLabelFont(132)\n",
    "hangles2.GetXaxis().SetLabelSize(0.05)\n",
    "hangles2.GetYaxis().SetLabelSize(0.05)\n",
    "hangles2.SetLineWidth(2)\n",
    "hangles2.SetLineColor(kRed)\n",
    "hangles2.SetFillColorAlpha(kRed, 0.35)\n",
    "hangles2.Draw(\"SAME\")\n",
    "\n",
    "hangles3.GetXaxis().CenterTitle(True)\n",
    "hangles3.GetXaxis().SetTitleFont(132)\n",
    "hangles3.GetXaxis().SetTitleSize(0.05)\n",
    "hangles3.GetXaxis().SetLabelFont(132)\n",
    "hangles3.GetYaxis().SetLabelFont(132)\n",
    "hangles3.GetXaxis().SetLabelSize(0.05)\n",
    "hangles3.GetYaxis().SetLabelSize(0.05)\n",
    "hangles3.SetLineWidth(2)\n",
    "hangles3.SetLineColor(kBlue)\n",
    "hangles3.SetFillColorAlpha(kBlue, 0.2)\n",
    "hangles3.Draw(\"SAME\")"
   ]
  },
  {
   "cell_type": "code",
   "execution_count": 223,
   "id": "d60cd746",
   "metadata": {},
   "outputs": [
    {
     "name": "stdout",
     "output_type": "stream",
     "text": [
      " FCN=5.75795 FROM MIGRAD    STATUS=CONVERGED      70 CALLS          71 TOTAL\n",
      "                     EDM=3.23434e-07    STRATEGY= 1      ERROR MATRIX ACCURATE \n",
      "  EXT PARAMETER                                   STEP         FIRST   \n",
      "  NO.   NAME      VALUE            ERROR          SIZE      DERIVATIVE \n",
      "   1  Constant     7.39359e+01   3.98527e+00   3.73035e-03  -1.29739e-04\n",
      "   2  Mean         5.84494e+01   2.04639e-03   2.78709e-05  -1.22779e-02\n",
      "   3  Sigma        3.89261e-02   2.47786e-03   2.32165e-05  -4.26054e-02\n"
     ]
    },
    {
     "data": {
      "image/png": "[encoded data removed]",
      "text/plain": [
       "<IPython.core.display.Image object>"
      ]
     },
     "metadata": {},
     "output_type": "display_data"
    }
   ],
   "source": [
    "f = TF1(\"f\", \"gaus\", 58.39, 58.51)\n",
    "hangles3.Fit(\"f\", \"R\")\n",
    "can.Draw()"
   ]
  },
  {
   "cell_type": "code",
   "execution_count": 224,
   "id": "e7fd33bb",
   "metadata": {},
   "outputs": [
    {
     "name": "stdout",
     "output_type": "stream",
     "text": [
      "0.09093145563791369 0.005788277645300574\n"
     ]
    }
   ],
   "source": [
    "print(f.GetParameter(2) * 2.336, f.GetParError(2) * 2.336)"
   ]
  },
  {
   "cell_type": "code",
   "execution_count": 225,
   "id": "7a20c170",
   "metadata": {},
   "outputs": [
    {
     "name": "stdout",
     "output_type": "stream",
     "text": [
      "5.75795448741758 9\n"
     ]
    }
   ],
   "source": [
    "print(f.GetChisquare(), f.GetNDF())"
   ]
  },
  {
   "cell_type": "code",
   "execution_count": null,
   "id": "cd4077d4",
   "metadata": {},
   "outputs": [],
   "source": []
  },
  {
   "cell_type": "code",
   "execution_count": 254,
   "id": "cf65ed2b",
   "metadata": {},
   "outputs": [
    {
     "data": {
      "text/plain": [
       "436"
      ]
     },
     "execution_count": 254,
     "metadata": {},
     "output_type": "execute_result"
    }
   ],
   "source": [
    "myFile = TFile.Open(\"histo1e4.root\", \"UPDATE\")\n",
    "myFile.WriteObject(hangles3_1, \"hangles3_10\")\n",
    "myFile.WriteObject(hangles2_1, \"hangles2_10\")\n",
    "myFile.WriteObject(hangles_1, \"hangles_10\")"
   ]
  },
  {
   "cell_type": "code",
   "execution_count": 255,
   "id": "4c6de0c4",
   "metadata": {},
   "outputs": [],
   "source": [
    "myFile.Close()"
   ]
  },
  {
   "cell_type": "code",
   "execution_count": 256,
   "id": "0e7e0df9",
   "metadata": {},
   "outputs": [],
   "source": [
    "myFile = TFile.Open(\"histo1e4.root\", \"READ\")"
   ]
  },
  {
   "cell_type": "code",
   "execution_count": 257,
   "id": "7435f4fe",
   "metadata": {},
   "outputs": [
    {
     "name": "stdout",
     "output_type": "stream",
     "text": [
      "TFile**\t\thisto1e4.root\t\n",
      " TFile*\t\thisto1e4.root\t\n",
      "  KEY: TH1F\thangles3_1;1\tobject title\n",
      "  KEY: TH1F\thangles2_1;1\tobject title\n",
      "  KEY: TH1F\thangles_1;1\tobject title\n",
      "  KEY: TH1F\thangles3_2;1\tobject title\n",
      "  KEY: TH1F\thangles2_2;1\tobject title\n",
      "  KEY: TH1F\thangles_2;1\tobject title\n",
      "  KEY: TH1F\thangles3_3;1\tobject title\n",
      "  KEY: TH1F\thangles2_3;1\tobject title\n",
      "  KEY: TH1F\thangles_3;1\tobject title\n",
      "  KEY: TH1F\thangles3_4;1\tobject title\n",
      "  KEY: TH1F\thangles2_4;1\tobject title\n",
      "  KEY: TH1F\thangles_4;1\tobject title\n",
      "  KEY: TH1F\thangles3_5;1\tobject title\n",
      "  KEY: TH1F\thangles2_5;1\tobject title\n",
      "  KEY: TH1F\thangles_5;1\tobject title\n",
      "  KEY: TH1F\thangles3_6;1\tobject title\n",
      "  KEY: TH1F\thangles2_6;1\tobject title\n",
      "  KEY: TH1F\thangles_6;1\tobject title\n",
      "  KEY: TH1F\thangles3_7;1\tobject title\n",
      "  KEY: TH1F\thangles2_7;1\tobject title\n",
      "  KEY: TH1F\thangles_7;1\tobject title\n",
      "  KEY: TH1F\thangles3_8;1\tobject title\n",
      "  KEY: TH1F\thangles2_8;1\tobject title\n",
      "  KEY: TH1F\thangles_8;1\tobject title\n",
      "  KEY: TH1F\thangles3_9;1\tobject title\n",
      "  KEY: TH1F\thangles2_9;1\tobject title\n",
      "  KEY: TH1F\thangles_9;1\tobject title\n",
      "  KEY: TH1F\thangles3_10;1\tobject title\n",
      "  KEY: TH1F\thangles2_10;1\tobject title\n",
      "  KEY: TH1F\thangles_10;1\tobject title\n"
     ]
    }
   ],
   "source": [
    "myFile.ls()"
   ]
  },
  {
   "cell_type": "code",
   "execution_count": 273,
   "id": "9c980085",
   "metadata": {},
   "outputs": [
    {
     "name": "stdout",
     "output_type": "stream",
     "text": [
      " FCN=8.82525 FROM MIGRAD    STATUS=CONVERGED      80 CALLS          81 TOTAL\n",
      "                     EDM=8.72349e-07    STRATEGY= 1      ERROR MATRIX ACCURATE \n",
      "  EXT PARAMETER                                   STEP         FIRST   \n",
      "  NO.   NAME      VALUE            ERROR          SIZE      DERIVATIVE \n",
      "   1  Constant     7.50787e+02   1.29248e+01   1.41505e-02  -7.70034e-05\n",
      "   2  Mean         5.85022e+01   6.87848e-04   2.78960e-05  -3.10579e-01\n",
      "   3  Sigma        4.07808e-02   9.15855e-04   9.75491e-06   4.56871e-02\n"
     ]
    },
    {
     "data": {
      "image/png": "[encoded data removed]",
      "text/plain": [
       "<IPython.core.display.Image object>"
      ]
     },
     "metadata": {},
     "output_type": "display_data"
    }
   ],
   "source": [
    "cc = TCanvas()\n",
    "hangles3_10 = myFile.hangles3_10\n",
    "hangles3_9  = myFile.hangles3_9\n",
    "hangles3_8  = myFile.hangles3_8\n",
    "hangles3_7  = myFile.hangles3_7\n",
    "hangles3_6  = myFile.hangles3_6\n",
    "hangles3_5  = myFile.hangles3_5\n",
    "hangles3_4  = myFile.hangles3_4\n",
    "hangles3_3  = myFile.hangles3_3\n",
    "hangles3_2  = myFile.hangles3_2\n",
    "hangles3_1  = myFile.hangles3_1\n",
    "\n",
    "hangles2_10 = myFile.hangles2_10\n",
    "hangles2_9  = myFile.hangles2_9\n",
    "hangles2_8  = myFile.hangles2_8\n",
    "hangles2_7  = myFile.hangles2_7\n",
    "hangles2_6  = myFile.hangles2_6\n",
    "hangles2_5  = myFile.hangles2_5\n",
    "hangles2_4  = myFile.hangles2_4\n",
    "hangles2_3  = myFile.hangles2_3\n",
    "hangles2_2  = myFile.hangles2_2\n",
    "hangles2_1  = myFile.hangles2_1\n",
    "\n",
    "hangles_10 = myFile.hangles_10\n",
    "hangles_9  = myFile.hangles_9\n",
    "hangles_8  = myFile.hangles_8\n",
    "hangles_7  = myFile.hangles_7\n",
    "hangles_6  = myFile.hangles_6\n",
    "hangles_5  = myFile.hangles_5\n",
    "hangles_4  = myFile.hangles_4\n",
    "hangles_3  = myFile.hangles_3\n",
    "hangles_2  = myFile.hangles_2\n",
    "hangles_1  = myFile.hangles_1\n",
    "han3=hangles3_9+hangles3_10+hangles3_8+hangles3_7+hangles3_6+hangles3_5+hangles3_4+hangles3_3+hangles3_2+hangles3_1\n",
    "han2=hangles2_9+hangles2_10+hangles2_8+hangles2_7+hangles2_6+hangles2_5+hangles2_4+hangles2_3+hangles2_2+hangles2_1\n",
    "han =hangles_9+hangles_10+hangles_8+hangles_7+hangles_6+hangles_5+hangles_4+hangles_3+hangles_2+hangles_1\n",
    "\n",
    "gStyle.SetOptStat(0)\n",
    "han.GetXaxis().SetTitle(\"incident angle #theta, deg\")\n",
    "han.GetXaxis().CenterTitle(True)\n",
    "han.GetXaxis().SetTitleFont(132)\n",
    "han.GetXaxis().SetTitleSize(0.05)\n",
    "han.GetXaxis().SetLabelFont(132)\n",
    "han.GetYaxis().SetLabelFont(132)\n",
    "han.GetXaxis().SetLabelSize(0.05)\n",
    "han.GetYaxis().SetLabelSize(0.05)\n",
    "han.SetLineWidth(2)\n",
    "han.SetLineColor(8)\n",
    "han.SetFillColor(8)\n",
    "han.GetYaxis().SetRangeUser(0, 800)\n",
    "han.Draw()\n",
    "\n",
    "han2.GetXaxis().CenterTitle(True)\n",
    "han2.GetXaxis().SetTitleFont(132)\n",
    "han2.GetXaxis().SetTitleSize(0.05)\n",
    "han2.GetXaxis().SetLabelFont(132)\n",
    "han2.GetYaxis().SetLabelFont(132)\n",
    "han2.GetXaxis().SetLabelSize(0.05)\n",
    "han2.GetYaxis().SetLabelSize(0.05)\n",
    "han2.SetLineWidth(2)\n",
    "han2.SetLineColor(kRed)\n",
    "han2.SetFillColorAlpha(kRed, 0.35)\n",
    "han2.Draw(\"SAME\")\n",
    "\n",
    "han3.GetXaxis().CenterTitle(True)\n",
    "han3.GetXaxis().SetTitleFont(132)\n",
    "han3.GetXaxis().SetTitleSize(0.05)\n",
    "han3.GetXaxis().SetLabelFont(132)\n",
    "han3.GetYaxis().SetLabelFont(132)\n",
    "han3.GetXaxis().SetLabelSize(0.05)\n",
    "han3.GetYaxis().SetLabelSize(0.05)\n",
    "han3.SetLineWidth(2)\n",
    "han3.SetLineColor(kBlue)\n",
    "han3.SetFillColorAlpha(kBlue, 0.2)\n",
    "han3.Draw(\"SAME\")\n",
    "\n",
    "f = TF1(\"f\", \"gaus\", 58.44, 58.56)\n",
    "han3.Fit(\"f\", \"R\")\n",
    "cc.Draw()"
   ]
  },
  {
   "cell_type": "code",
   "execution_count": 274,
   "id": "686a5168",
   "metadata": {},
   "outputs": [
    {
     "name": "stderr",
     "output_type": "stream",
     "text": [
      "Info in <TCanvas::SaveSource>: C++ Macro file: runs1e4G6.C has been generated\n"
     ]
    }
   ],
   "source": [
    "cc.SaveAs(\"runs1e4G6.C\")"
   ]
  },
  {
   "cell_type": "code",
   "execution_count": 268,
   "id": "2df1437d",
   "metadata": {},
   "outputs": [
    {
     "data": {
      "text/plain": [
       "8.825248207015129"
      ]
     },
     "execution_count": 268,
     "metadata": {},
     "output_type": "execute_result"
    }
   ],
   "source": [
    "f.GetChisquare()"
   ]
  },
  {
   "cell_type": "code",
   "execution_count": 269,
   "id": "d63d4bd9",
   "metadata": {},
   "outputs": [
    {
     "data": {
      "text/plain": [
       "9"
      ]
     },
     "execution_count": 269,
     "metadata": {},
     "output_type": "execute_result"
    }
   ],
   "source": [
    "f.GetNDF()"
   ]
  },
  {
   "cell_type": "code",
   "execution_count": 270,
   "id": "c79ca3bf",
   "metadata": {},
   "outputs": [
    {
     "data": {
      "text/plain": [
       "0.00213943728"
      ]
     },
     "execution_count": 270,
     "metadata": {},
     "output_type": "execute_result"
    }
   ],
   "source": [
    "9.15855e-04*2.336"
   ]
  },
  {
   "cell_type": "code",
   "execution_count": 267,
   "id": "84673c77",
   "metadata": {},
   "outputs": [
    {
     "data": {
      "text/plain": [
       "0.0952639488"
      ]
     },
     "execution_count": 267,
     "metadata": {},
     "output_type": "execute_result"
    }
   ],
   "source": [
    "4.07808e-02*2.336"
   ]
  },
  {
   "cell_type": "code",
   "execution_count": 264,
   "id": "634bc0dc",
   "metadata": {},
   "outputs": [
    {
     "name": "stdout",
     "output_type": "stream",
     "text": [
      "47 474.0\n",
      "48 577.0\n",
      "49 677.0\n",
      "50 765.0\n",
      "51 771.0\n",
      "52 743.0\n",
      "53 610.0\n",
      "54 533.0\n",
      "55 448.0\n",
      "5598.0\n"
     ]
    }
   ],
   "source": [
    "a = []\n",
    "for i in range(100):\n",
    "    a.append(han3.GetBinContent(i+1))\n",
    "s = 0\n",
    "for i in range(100):\n",
    "    if han3.GetBinContent(i+1) > max(a)/2:\n",
    "        s = s + han3.GetBinContent(i+1)\n",
    "        print(i+1, han3.GetBinContent(i+1))\n",
    "print(s)"
   ]
  },
  {
   "cell_type": "code",
   "execution_count": null,
   "id": "a7157a1c",
   "metadata": {},
   "outputs": [],
   "source": []
  }
 ],
 "metadata": {
  "kernelspec": {
   "display_name": "Python 3 (ipykernel)",
   "language": "python",
   "name": "python3"
  },
  "language_info": {
   "codemirror_mode": {
    "name": "ipython",
    "version": 3
   },
   "file_extension": ".py",
   "mimetype": "text/x-python",
   "name": "python",
   "nbconvert_exporter": "python",
   "pygments_lexer": "ipython3",
   "version": "3.8.10"
  }
 },
 "nbformat": 4,
 "nbformat_minor": 5
}
