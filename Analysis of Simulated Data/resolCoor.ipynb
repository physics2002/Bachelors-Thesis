{
 "cells": [
  {
   "cell_type": "code",
   "execution_count": 1,
   "id": "4c5fdf57",
   "metadata": {},
   "outputs": [
    {
     "name": "stdout",
     "output_type": "stream",
     "text": [
      "Welcome to JupyROOT 6.26/00\n"
     ]
    }
   ],
   "source": [
    "from ROOT import *"
   ]
  },
  {
   "cell_type": "code",
   "execution_count": 2,
   "id": "8fd35cba",
   "metadata": {},
   "outputs": [],
   "source": [
    "filenames = []\n",
    "for i in range(7,48):\n",
    "    filenames.append(\"test\" + str(i) + \".root\")"
   ]
  },
  {
   "cell_type": "code",
   "execution_count": 3,
   "id": "30567b24",
   "metadata": {},
   "outputs": [],
   "source": [
    "inp = []\n",
    "for i in range(7,48):\n",
    "    a = TFile.Open(filenames[i-7], \"READ\")\n",
    "    inp.append(a)"
   ]
  },
  {
   "cell_type": "code",
   "execution_count": 4,
   "id": "881f4a8b",
   "metadata": {},
   "outputs": [],
   "source": [
    "tree = []\n",
    "\n",
    "for i in range(7,48):\n",
    "    t = inp[i-7].Get(\"Position\")\n",
    "    tree.append(t)"
   ]
  },
  {
   "cell_type": "code",
   "execution_count": 5,
   "id": "66bae1c0",
   "metadata": {},
   "outputs": [],
   "source": [
    "hist = []\n",
    "for i in range(0,41):\n",
    "    h = TH1F(\"h\" + str(i+7), \"\", 250, 0, 250)\n",
    "    hist.append(h)"
   ]
  },
  {
   "cell_type": "code",
   "execution_count": 6,
   "id": "29a8c55f",
   "metadata": {},
   "outputs": [],
   "source": [
    "FZ = []\n",
    "\n",
    "for i in range(0,41):\n",
    "    A = []\n",
    "    for entry in tree[i]:\n",
    "        #if entry.fZ > 4*(i+7-3)*0.00575 and entry.fZ < 4*(i+7+2)*0.00575:\n",
    "        A.append(entry.fZ)\n",
    "        hist[i].Fill(entry.fEvent)\n",
    "    FZ.append(A)"
   ]
  },
  {
   "cell_type": "code",
   "execution_count": 7,
   "id": "c5ffe75d",
   "metadata": {},
   "outputs": [],
   "source": [
    "d = {}\n",
    "for k in range(41):\n",
    "    d[\"B{0}\".format(k)] = []\n",
    "    S = 0\n",
    "    for i in range(250):\n",
    "        C = []\n",
    "        for j in range(S, S + int(hist[k].GetBinContent(i+1))):\n",
    "            S = S + 1\n",
    "            C.append(FZ[k][j])\n",
    "        d[\"B\"+str(k)].append(C)"
   ]
  },
  {
   "cell_type": "code",
   "execution_count": 8,
   "id": "d774f893",
   "metadata": {},
   "outputs": [
    {
     "name": "stdout",
     "output_type": "stream",
     "text": [
      "150\n"
     ]
    }
   ],
   "source": [
    "print(len((d[\"B0\"][0])))"
   ]
  },
  {
   "cell_type": "code",
   "execution_count": 9,
   "id": "8724805a",
   "metadata": {},
   "outputs": [],
   "source": [
    "d_new = {}\n",
    "for i in range(41):\n",
    "    d_new[\"B_new{0}\".format(i)] = []\n",
    "for k in range(41):\n",
    "    for j in d[\"B\"+str(k)]:\n",
    "        d_new[\"B_new\"+str(k)].append(list(set(j)))"
   ]
  },
  {
   "cell_type": "code",
   "execution_count": 10,
   "id": "b67cf90d",
   "metadata": {},
   "outputs": [],
   "source": [
    "D_NEW = {}\n",
    "for i in range(41):\n",
    "    D_NEW[\"B_NEW{0}\".format(i)] = []\n",
    "for l in range(41):\n",
    "    for j in range(250):\n",
    "        M = []\n",
    "        for k in range(len(d_new[\"B_new\"+str(l)][j])):\n",
    "            if d_new[\"B_new\"+str(l)][j][k] >= (l+7-2)*0.023 and d_new[\"B_new\"+str(l)][j][k] <= (l+7+2)*0.023:\n",
    "                M.append(d_new[\"B_new\"+str(l)][j][k])\n",
    "        D_NEW[\"B_NEW\"+str(l)].append(M)"
   ]
  },
  {
   "cell_type": "code",
   "execution_count": 12,
   "id": "3a01d956",
   "metadata": {},
   "outputs": [],
   "source": [
    "a = [1,23,445,5,5,34]"
   ]
  },
  {
   "cell_type": "code",
   "execution_count": 13,
   "id": "5bf2c123",
   "metadata": {},
   "outputs": [],
   "source": [
    "del a[len(a)-1]"
   ]
  },
  {
   "cell_type": "code",
   "execution_count": 14,
   "id": "cb5cbc10",
   "metadata": {},
   "outputs": [
    {
     "data": {
      "text/plain": [
       "[1, 23, 445, 5, 5]"
      ]
     },
     "execution_count": 14,
     "metadata": {},
     "output_type": "execute_result"
    }
   ],
   "source": [
    "a"
   ]
  },
  {
   "cell_type": "code",
   "execution_count": 15,
   "id": "daf576ba",
   "metadata": {},
   "outputs": [
    {
     "name": "stdout",
     "output_type": "stream",
     "text": [
      "[0.434125, 0.336375, 1.262125, 0.4226249999999999, 1.2506249999999999, 0.42837499999999995, 0.41687499999999994, 0.4571249999999999, 0.9573750000000001]\n",
      "[0.434125, 0.4226249999999999, 0.42837499999999995, 0.41687499999999994, 0.4571249999999999]\n"
     ]
    }
   ],
   "source": [
    "print(d_new[\"B_new12\"][248])\n",
    "print(D_NEW[\"B_NEW12\"][248])"
   ]
  },
  {
   "cell_type": "code",
   "execution_count": 187,
   "id": "4161788f",
   "metadata": {},
   "outputs": [],
   "source": [
    "hist2 = []\n",
    "fit = []\n",
    "for i in range(0,41):\n",
    "    h2 = TH1F(\"hist2_\" + str(i+7), \"\", 10, (i+7-2)*230, (i+7+2)*230)\n",
    "    hist2.append(h2)\n",
    "    f = TF1(\"fit\"+str(i), \"gaus\", (i+7-2)*230, (i+7+2)*230)\n",
    "    fit.append(f)"
   ]
  },
  {
   "cell_type": "code",
   "execution_count": 188,
   "id": "92409512",
   "metadata": {},
   "outputs": [],
   "source": [
    "for i in range(0,41):\n",
    "    S = 0\n",
    "    for j in range(0, 250):\n",
    "        Z = 0.\n",
    "        if len(D_NEW[\"B_NEW\"+str(i)][j]) != 0:\n",
    "            for k in range(len(D_NEW[\"B_NEW\"+str(i)][j])):\n",
    "                Z = Z + (4*(floor(D_NEW[\"B_NEW\"+str(i)][j][k]/0.023)+1)-2)*0.00575 *10000\n",
    "                S = S + 1\n",
    "            hist2[i].Fill(Z/len(D_NEW[\"B_NEW\"+str(i)][j]))"
   ]
  },
  {
   "cell_type": "code",
   "execution_count": 267,
   "id": "4bcfa583",
   "metadata": {},
   "outputs": [],
   "source": [
    "c = TCanvas()"
   ]
  },
  {
   "cell_type": "code",
   "execution_count": 268,
   "id": "55830d79",
   "metadata": {},
   "outputs": [],
   "source": [
    "hist2[6].Draw()"
   ]
  },
  {
   "cell_type": "code",
   "execution_count": 269,
   "id": "10e7acc8",
   "metadata": {},
   "outputs": [
    {
     "data": {
      "text/plain": [
       "59.16188324605682"
      ]
     },
     "execution_count": 269,
     "metadata": {},
     "output_type": "execute_result"
    }
   ],
   "source": [
    "hist2[6].GetStdDev()"
   ]
  },
  {
   "cell_type": "code",
   "execution_count": 270,
   "id": "06acebff",
   "metadata": {},
   "outputs": [
    {
     "data": {
      "image/png": "[encoded data removed]",
      "text/plain": [
       "<IPython.core.display.Image object>"
      ]
     },
     "metadata": {},
     "output_type": "display_data"
    }
   ],
   "source": [
    "c.Draw()"
   ]
  },
  {
   "cell_type": "code",
   "execution_count": 200,
   "id": "39c889ca",
   "metadata": {},
   "outputs": [
    {
     "name": "stdout",
     "output_type": "stream",
     "text": [
      " FCN=4.02464 FROM MIGRAD    STATUS=CONVERGED      68 CALLS          69 TOTAL\n",
      "                     EDM=8.4931e-08    STRATEGY= 1      ERROR MATRIX ACCURATE \n",
      "  EXT PARAMETER                                   STEP         FIRST   \n",
      "  NO.   NAME      VALUE            ERROR          SIZE      DERIVATIVE \n",
      "   1  Constant     1.88921e+02   1.51028e+01   1.31855e-02   1.83057e-05\n",
      "   2  Mean         1.54306e+03   3.08064e+00   3.35518e-03   6.40540e-05\n",
      "   3  Sigma        4.77211e+01   2.32357e+00   1.33161e-05  -9.44366e-03\n",
      " FCN=3.94595 FROM MIGRAD    STATUS=CONVERGED      78 CALLS          79 TOTAL\n",
      "                     EDM=5.0562e-09    STRATEGY= 1      ERROR MATRIX ACCURATE \n",
      "  EXT PARAMETER                                   STEP         FIRST   \n",
      "  NO.   NAME      VALUE            ERROR          SIZE      DERIVATIVE \n",
      "   1  Constant     2.20937e+02   1.65893e+01   1.52951e-02   2.54671e-06\n",
      "   2  Mean         1.71695e+03   3.09089e+00   3.05691e-03  -4.55719e-06\n",
      "   3  Sigma        3.98496e+01   1.73449e+00   1.19165e-05  -5.75790e-03\n",
      " FCN=4.9032 FROM MIGRAD    STATUS=CONVERGED      80 CALLS          81 TOTAL\n",
      "                     EDM=3.58347e-07    STRATEGY= 1      ERROR MATRIX ACCURATE \n",
      "  EXT PARAMETER                                   STEP         FIRST   \n",
      "  NO.   NAME      VALUE            ERROR          SIZE      DERIVATIVE \n",
      "   1  Constant     2.07997e+02   1.49874e+01   1.57591e-02  -4.16016e-05\n",
      "   2  Mean         1.94235e+03   3.08767e+00   3.56519e-03  -8.19144e-05\n",
      "   3  Sigma        4.22482e+01   1.68243e+00   1.19797e-05   2.01991e-02\n",
      " FCN=1.99999 FROM MIGRAD    STATUS=CONVERGED      76 CALLS          77 TOTAL\n",
      "                     EDM=1.74161e-08    STRATEGY= 1      ERROR MATRIX ACCURATE \n",
      "  EXT PARAMETER                                   STEP         FIRST   \n",
      "  NO.   NAME      VALUE            ERROR          SIZE      DERIVATIVE \n",
      "   1  Constant     1.69527e+02   1.52695e+01   9.10337e-03   6.58355e-06\n",
      "   2  Mean         2.20058e+03   5.13586e+00   3.36055e-03   3.31062e-05\n",
      "   3  Sigma        5.62543e+01   4.83302e+00   1.38514e-05   1.07678e-02\n",
      " FCN=4.93374e-07 FROM MIGRAD    STATUS=CONVERGED     113 CALLS         114 TOTAL\n",
      "                     EDM=9.86753e-07    STRATEGY= 1      ERROR MATRIX ACCURATE \n",
      "  EXT PARAMETER                                   STEP         FIRST   \n",
      "  NO.   NAME      VALUE            ERROR          SIZE      DERIVATIVE \n",
      "   1  Constant     2.36504e+02   1.77183e+01   7.30540e-03  -4.86834e-05\n",
      "   2  Mean         2.47038e+03   3.26175e+00   1.36662e-03  -3.90205e-04\n",
      "   3  Sigma        3.69739e+01   1.65779e+00   6.54229e-06  -3.16457e-02\n",
      " FCN=0.980155 FROM MIGRAD    STATUS=CONVERGED      77 CALLS          78 TOTAL\n",
      "                     EDM=8.99045e-09    STRATEGY= 1      ERROR MATRIX ACCURATE \n",
      "  EXT PARAMETER                                   STEP         FIRST   \n",
      "  NO.   NAME      VALUE            ERROR          SIZE      DERIVATIVE \n",
      "   1  Constant     2.48114e+02   2.29562e+01   1.08025e-02   2.63351e-06\n",
      "   2  Mean         2.69332e+03   3.29508e+00   1.65595e-03   4.14788e-05\n",
      "   3  Sigma        3.63067e+01   2.08321e+00   8.52859e-06   2.07348e-03\n",
      " FCN=5.6032 FROM MIGRAD    STATUS=CONVERGED      96 CALLS          97 TOTAL\n",
      "                     EDM=7.13466e-09    STRATEGY= 1      ERROR MATRIX ACCURATE \n",
      "  EXT PARAMETER                                   STEP         FIRST   \n",
      "  NO.   NAME      VALUE            ERROR          SIZE      DERIVATIVE \n",
      "   1  Constant     1.94721e+02   1.73417e+01   1.56350e-02  -1.35658e-06\n",
      "   2  Mean         2.88375e+03   2.86732e+00   3.59313e-03   4.03864e-05\n",
      "   3  Sigma        4.64106e+01   2.67044e+00   1.43719e-05   9.31630e-04\n",
      " FCN=3.94831 FROM MIGRAD    STATUS=CONVERGED      83 CALLS          84 TOTAL\n",
      "                     EDM=3.882e-07    STRATEGY= 1      ERROR MATRIX ACCURATE \n",
      "  EXT PARAMETER                                   STEP         FIRST   \n",
      "  NO.   NAME      VALUE            ERROR          SIZE      DERIVATIVE \n",
      "   1  Constant     2.18604e+02   1.60588e+01   1.51344e-02  -1.77732e-05\n",
      "   2  Mean         3.09531e+03   3.09418e+00   3.12357e-03  -2.07535e-04\n",
      "   3  Sigma        4.01642e+01   1.68338e+00   1.12441e-05   1.63014e-02\n",
      " FCN=0.999991 FROM MIGRAD    STATUS=CONVERGED      90 CALLS          91 TOTAL\n",
      "                     EDM=8.71416e-08    STRATEGY= 1      ERROR MATRIX ACCURATE \n",
      "  EXT PARAMETER                                   STEP         FIRST   \n",
      "  NO.   NAME      VALUE            ERROR          SIZE      DERIVATIVE \n",
      "   1  Constant     2.65337e+02   3.17298e+01   1.16063e-02  -2.43102e-07\n",
      "   2  Mean         3.33629e+03   3.52486e+00   1.59087e-03  -1.55787e-04\n",
      "   3  Sigma        3.48074e+01   2.54583e+00   8.19374e-06  -8.51357e-03\n",
      " FCN=8.92447 FROM MIGRAD    STATUS=CONVERGED     121 CALLS         122 TOTAL\n",
      "                     EDM=6.06994e-08    STRATEGY= 1      ERROR MATRIX ACCURATE \n",
      "  EXT PARAMETER                                   STEP         FIRST   \n",
      "  NO.   NAME      VALUE            ERROR          SIZE      DERIVATIVE \n",
      "   1  Constant     2.50098e+02   3.20722e+01   2.47804e-02   1.77246e-05\n",
      "   2  Mean         3.57187e+03   3.00380e+00   3.25617e-03  -5.61600e-05\n",
      "   3  Sigma        3.67946e+01   2.90657e+00   1.54254e-05   2.68165e-02\n",
      " FCN=0.977733 FROM MIGRAD    STATUS=CONVERGED      70 CALLS          71 TOTAL\n",
      "                     EDM=1.08683e-06    STRATEGY= 1      ERROR MATRIX ACCURATE \n",
      "  EXT PARAMETER                                   STEP         FIRST   \n",
      "  NO.   NAME      VALUE            ERROR          SIZE      DERIVATIVE \n",
      "   1  Constant     2.39431e+02   1.97547e+01   1.04279e-02   1.42136e-05\n",
      "   2  Mean         3.84601e+03   3.21913e+00   1.83392e-03   5.69486e-04\n",
      "   3  Sigma        3.71813e+01   1.87372e+00   8.60918e-06  -5.37695e-02\n",
      " FCN=1.95821 FROM MIGRAD    STATUS=CONVERGED      68 CALLS          69 TOTAL\n",
      "                     EDM=1.45273e-07    STRATEGY= 1      ERROR MATRIX ACCURATE \n",
      "  EXT PARAMETER                                   STEP         FIRST   \n",
      "  NO.   NAME      VALUE            ERROR          SIZE      DERIVATIVE \n",
      "   1  Constant     2.31087e+02   1.83791e+01   1.23199e-02  -9.42225e-06\n",
      "   2  Mean         4.07629e+03   3.11598e+00   2.22860e-03   2.04747e-05\n",
      "   3  Sigma        3.85429e+01   1.83910e+00   1.00923e-05   2.39699e-02\n",
      " FCN=3.75977 FROM MIGRAD    STATUS=CONVERGED      59 CALLS          60 TOTAL\n",
      "                     EDM=6.74902e-08    STRATEGY= 1      ERROR MATRIX ACCURATE \n",
      "  EXT PARAMETER                                   STEP         FIRST   \n",
      "  NO.   NAME      VALUE            ERROR          SIZE      DERIVATIVE \n",
      "   1  Constant     1.91868e+02   1.39338e+01   1.31044e-02   1.56830e-05\n",
      "   2  Mean         4.23425e+03   3.17516e+00   3.38024e-03   6.86153e-05\n",
      "   3  Sigma        4.58581e+01   1.82033e+00   1.21480e-05   2.57024e-02\n",
      " FCN=1.90463 FROM MIGRAD    STATUS=CONVERGED      69 CALLS          70 TOTAL\n",
      "                     EDM=1.56933e-07    STRATEGY= 1      ERROR MATRIX ACCURATE \n",
      "  EXT PARAMETER                                   STEP         FIRST   \n",
      "  NO.   NAME      VALUE            ERROR          SIZE      DERIVATIVE \n",
      "   1  Constant     2.05593e+02   1.45756e+01   1.08614e-02   2.34348e-05\n",
      "   2  Mean         4.46909e+03   3.08974e+00   2.54429e-03   8.83758e-05\n",
      "   3  Sigma        4.33310e+01   1.66748e+00   8.83638e-06   4.72752e-02\n",
      " FCN=1.95096 FROM MIGRAD    STATUS=CONVERGED      68 CALLS          69 TOTAL\n",
      "                     EDM=2.91755e-09    STRATEGY= 1      ERROR MATRIX ACCURATE \n",
      "  EXT PARAMETER                                   STEP         FIRST   \n",
      "  NO.   NAME      VALUE            ERROR          SIZE      DERIVATIVE \n",
      "   1  Constant     2.25489e+02   1.73215e+01   1.20327e-02  -1.54658e-06\n",
      "   2  Mean         4.70827e+03   3.09755e+00   2.30081e-03   2.96032e-06\n",
      "   3  Sigma        3.92545e+01   1.77684e+00   1.00717e-05   4.10779e-03\n",
      " FCN=2.97951 FROM MIGRAD    STATUS=CONVERGED      74 CALLS          75 TOTAL\n",
      "                     EDM=3.77321e-09    STRATEGY= 1      ERROR MATRIX ACCURATE \n",
      "  EXT PARAMETER                                   STEP         FIRST   \n",
      "  NO.   NAME      VALUE            ERROR          SIZE      DERIVATIVE \n",
      "   1  Constant     2.45877e+02   2.28262e+01   1.52373e-02  -1.46555e-06\n",
      "   2  Mean         4.94274e+03   3.30049e+00   2.35704e-03  -2.41005e-05\n",
      "   3  Sigma        3.63613e+01   2.09317e+00   1.15918e-05  -1.27086e-03\n",
      " FCN=1.96083 FROM MIGRAD    STATUS=CONVERGED      65 CALLS          66 TOTAL\n",
      "                     EDM=8.3386e-09    STRATEGY= 1      ERROR MATRIX ACCURATE \n",
      "  EXT PARAMETER                                   STEP         FIRST   \n",
      "  NO.   NAME      VALUE            ERROR          SIZE      DERIVATIVE \n",
      "   1  Constant     2.26275e+02   1.72279e+01   1.20951e-02  -6.99363e-06\n",
      "   2  Mean         5.22844e+03   3.11866e+00   2.49311e-03   2.13520e-06\n",
      "   3  Sigma        3.89729e+01   1.74461e+00   9.88996e-06   7.24786e-04\n",
      " FCN=3.78137 FROM MIGRAD    STATUS=CONVERGED      79 CALLS          80 TOTAL\n",
      "                     EDM=7.05591e-07    STRATEGY= 1      ERROR MATRIX ACCURATE \n",
      "  EXT PARAMETER                                   STEP         FIRST   \n",
      "  NO.   NAME      VALUE            ERROR          SIZE      DERIVATIVE \n",
      "   1  Constant     2.10406e+02   1.64173e+01   1.43281e-02  -6.65992e-05\n",
      "   2  Mean         5.45509e+03   2.98788e+00   3.00623e-03   1.72802e-04\n",
      "   3  Sigma        4.26075e+01   1.95637e+00   1.16364e-05  -1.83992e-02\n",
      " FCN=1.99704 FROM MIGRAD    STATUS=CONVERGED      61 CALLS          62 TOTAL\n",
      "                     EDM=1.19995e-06    STRATEGY= 1      ERROR MATRIX ACCURATE \n",
      "  EXT PARAMETER                                   STEP         FIRST   \n",
      "  NO.   NAME      VALUE            ERROR          SIZE      DERIVATIVE \n",
      "   1  Constant     2.22059e+02   1.50250e+01   1.19433e-02  -4.07772e-05\n",
      "   2  Mean         5.70022e+03   3.19105e+00   2.71808e-03  -4.60535e-04\n",
      "   3  Sigma        3.84653e+01   1.42911e+00   9.65196e-06   1.43067e-02\n",
      " FCN=1.956 FROM MIGRAD    STATUS=CONVERGED      71 CALLS          72 TOTAL\n",
      "                     EDM=3.67113e-10    STRATEGY= 1      ERROR MATRIX ACCURATE \n",
      "  EXT PARAMETER                                   STEP         FIRST   \n",
      "  NO.   NAME      VALUE            ERROR          SIZE      DERIVATIVE \n",
      "   1  Constant     2.12540e+02   1.46447e+01   1.13290e-02   9.50802e-07\n",
      "   2  Mean         5.83888e+03   3.10327e+00   2.78419e-03  -7.57970e-06\n",
      "   3  Sigma        4.13296e+01   1.52496e+00   9.87723e-06   7.37215e-04\n",
      " FCN=5.82277 FROM MIGRAD    STATUS=CONVERGED      90 CALLS          91 TOTAL\n",
      "                     EDM=4.141e-09    STRATEGY= 1      ERROR MATRIX ACCURATE \n",
      "  EXT PARAMETER                                   STEP         FIRST   \n",
      "  NO.   NAME      VALUE            ERROR          SIZE      DERIVATIVE \n",
      "   1  Constant     2.07819e+02   1.58439e+01   1.69621e-02   2.71250e-06\n",
      "   2  Mean         6.08854e+03   3.03280e+00   3.67336e-03   2.76774e-05\n",
      "   3  Sigma        4.25956e+01   1.87682e+00   1.29103e-05   3.07265e-03\n",
      " FCN=8.88363 FROM MIGRAD    STATUS=CONVERGED      89 CALLS          90 TOTAL\n",
      "                     EDM=2.47545e-09    STRATEGY= 1      ERROR MATRIX ACCURATE \n",
      "  EXT PARAMETER                                   STEP         FIRST   \n",
      "  NO.   NAME      VALUE            ERROR          SIZE      DERIVATIVE \n",
      "   1  Constant     2.13505e+02   1.72478e+01   2.11926e-02   1.83483e-06\n",
      "   2  Mean         6.32128e+03   3.05158e+00   4.21109e-03   2.21840e-05\n",
      "   3  Sigma        4.06736e+01   1.95736e+00   1.51513e-05   2.66281e-03\n",
      " FCN=2.76763 FROM MIGRAD    STATUS=CONVERGED      86 CALLS          87 TOTAL\n",
      "                     EDM=1.36298e-08    STRATEGY= 1      ERROR MATRIX ACCURATE \n",
      "  EXT PARAMETER                                   STEP         FIRST   \n",
      "  NO.   NAME      VALUE            ERROR          SIZE      DERIVATIVE \n",
      "   1  Constant     2.32816e+02   2.40740e+01   1.40611e-02  -2.93381e-06\n",
      "   2  Mean         6.59418e+03   2.74001e+00   3.14435e-03  -1.74955e-05\n",
      "   3  Sigma        3.97180e+01   2.60085e+00   1.12385e-05   6.25932e-03\n",
      " FCN=1.99576 FROM MIGRAD    STATUS=CONVERGED      92 CALLS          93 TOTAL\n",
      "                     EDM=1.8162e-10    STRATEGY= 1      ERROR MATRIX ACCURATE \n",
      "  EXT PARAMETER                                   STEP         FIRST   \n",
      "  NO.   NAME      VALUE            ERROR          SIZE      DERIVATIVE \n",
      "   1  Constant     2.62683e+02   2.91763e+01   1.41238e-02   2.72532e-07\n",
      "   2  Mean         6.83339e+03   3.82309e+00   3.25842e-03   5.98672e-06\n",
      "   3  Sigma        3.37416e+01   2.32606e+00   1.01770e-05   8.47718e-05\n",
      " FCN=1.9555 FROM MIGRAD    STATUS=CONVERGED      61 CALLS          62 TOTAL\n",
      "                     EDM=2.74308e-07    STRATEGY= 1      ERROR MATRIX ACCURATE \n",
      "  EXT PARAMETER                                   STEP         FIRST   \n",
      "  NO.   NAME      VALUE            ERROR          SIZE      DERIVATIVE \n",
      "   1  Constant     2.19419e+02   1.57130e+01   1.16960e-02   1.46602e-05\n",
      "   2  Mean         7.07273e+03   3.09646e+00   3.37254e-03  -1.35429e-04\n",
      "   3  Sigma        4.01477e+01   1.61603e+00   1.00175e-05  -2.47750e-02\n",
      " FCN=4.79454 FROM MIGRAD    STATUS=CONVERGED      68 CALLS          69 TOTAL\n",
      "                     EDM=1.31608e-07    STRATEGY= 1      ERROR MATRIX ACCURATE \n",
      "  EXT PARAMETER                                   STEP         FIRST   \n",
      "  NO.   NAME      VALUE            ERROR          SIZE      DERIVATIVE \n",
      "   1  Constant     1.83192e+02   1.48654e+01   1.38074e-02  -2.90223e-05\n",
      "   2  Mean         7.29140e+03   3.13608e+00   3.67752e-03   8.15118e-05\n",
      "   3  Sigma        4.87154e+01   2.42070e+00   1.43469e-05  -2.47745e-04\n",
      " FCN=5.98178 FROM MIGRAD    STATUS=CONVERGED      83 CALLS          84 TOTAL\n",
      "                     EDM=1.18913e-06    STRATEGY= 1      ERROR MATRIX ACCURATE \n",
      "  EXT PARAMETER                                   STEP         FIRST   \n",
      "  NO.   NAME      VALUE            ERROR          SIZE      DERIVATIVE \n",
      "   1  Constant     2.25692e+02   1.67232e+01   1.86247e-02   5.63416e-05\n",
      "   2  Mean         7.46495e+03   3.21320e+00   3.70987e-03  -3.18712e-05\n",
      "   3  Sigma        3.80322e+01   1.64759e+00   1.34127e-05   1.37014e-01\n",
      " FCN=0.960039 FROM MIGRAD    STATUS=CONVERGED      68 CALLS          69 TOTAL\n",
      "                     EDM=7.79741e-08    STRATEGY= 1      ERROR MATRIX ACCURATE \n",
      "  EXT PARAMETER                                   STEP         FIRST   \n",
      "  NO.   NAME      VALUE            ERROR          SIZE      DERIVATIVE \n",
      "   1  Constant     2.37793e+02   2.02016e+01   1.02963e-02   2.03416e-05\n",
      "   2  Mean         7.70198e+03   3.12985e+00   3.67259e-03  -9.55694e-05\n",
      "   3  Sigma        3.78933e+01   1.96946e+00   8.41450e-06   1.47849e-02\n",
      " FCN=0.664075 FROM MIGRAD    STATUS=CONVERGED      69 CALLS          70 TOTAL\n",
      "                     EDM=9.79287e-07    STRATEGY= 1      ERROR MATRIX ACCURATE \n",
      "  EXT PARAMETER                                   STEP         FIRST   \n",
      "  NO.   NAME      VALUE            ERROR          SIZE      DERIVATIVE \n",
      "   1  Constant     1.97625e+02   1.81723e+01   7.87635e-03   3.64707e-05\n",
      "   2  Mean         7.95256e+03   2.83127e+00   3.79208e-03  -4.60597e-04\n",
      "   3  Sigma        4.68318e+01   2.80273e+00   8.29311e-06   1.77355e-02\n",
      " FCN=3.98468 FROM MIGRAD    STATUS=CONVERGED      88 CALLS          89 TOTAL\n",
      "                     EDM=1.1065e-09    STRATEGY= 1      ERROR MATRIX ACCURATE \n",
      "  EXT PARAMETER                                   STEP         FIRST   \n",
      "  NO.   NAME      VALUE            ERROR          SIZE      DERIVATIVE \n",
      "   1  Constant     2.45262e+02   2.24368e+01   1.70456e-02  -2.93696e-06\n",
      "   2  Mean         8.21421e+03   3.35970e+00   3.91684e-03  -8.45385e-06\n",
      "   3  Sigma        3.60595e+01   2.04753e+00   1.19901e-05  -1.74321e-03\n",
      " FCN=1.95883 FROM MIGRAD    STATUS=CONVERGED      67 CALLS          68 TOTAL\n",
      "                     EDM=1.40244e-10    STRATEGY= 1      ERROR MATRIX ACCURATE \n",
      "  EXT PARAMETER                                   STEP         FIRST   \n",
      "  NO.   NAME      VALUE            ERROR          SIZE      DERIVATIVE \n",
      "   1  Constant     2.18153e+02   1.54119e+01   1.16341e-02  -1.14786e-06\n",
      "   2  Mean         8.45431e+03   3.10105e+00   4.03133e-03  -1.99644e-06\n",
      "   3  Sigma        4.02878e+01   1.58021e+00   1.00064e-05  -6.33606e-04\n",
      " FCN=3.83826 FROM MIGRAD    STATUS=CONVERGED      70 CALLS          71 TOTAL\n",
      "                     EDM=1.09544e-06    STRATEGY= 1      ERROR MATRIX ACCURATE \n",
      "  EXT PARAMETER                                   STEP         FIRST   \n",
      "  NO.   NAME      VALUE            ERROR          SIZE      DERIVATIVE \n",
      "   1  Constant     1.93904e+02   1.72188e+01   1.33990e-02  -8.27784e-05\n",
      "   2  Mean         8.63297e+03   2.87554e+00   4.11652e-03  -1.74750e-04\n",
      "   3  Sigma        4.59901e+01   2.60540e+00   1.32742e-05  -1.13856e-01\n",
      " FCN=1.98162 FROM MIGRAD    STATUS=CONVERGED      69 CALLS          70 TOTAL\n",
      "                     EDM=8.13659e-08    STRATEGY= 1      ERROR MATRIX ACCURATE \n",
      "  EXT PARAMETER                                   STEP         FIRST   \n",
      "  NO.   NAME      VALUE            ERROR          SIZE      DERIVATIVE \n",
      "   1  Constant     2.38815e+02   1.95330e+01   1.27806e-02   1.88385e-05\n",
      "   2  Mean         8.84932e+03   3.25415e+00   4.21969e-03   3.88261e-05\n",
      "   3  Sigma        3.69629e+01   1.84671e+00   1.03205e-05   3.13980e-02\n",
      " FCN=3.98294 FROM MIGRAD    STATUS=CONVERGED      80 CALLS          81 TOTAL\n",
      "                     EDM=1.24426e-07    STRATEGY= 1      ERROR MATRIX ACCURATE \n",
      "  EXT PARAMETER                                   STEP         FIRST   \n",
      "  NO.   NAME      VALUE            ERROR          SIZE      DERIVATIVE \n",
      "   1  Constant     2.45106e+02   2.25506e+01   1.70310e-02  -2.38455e-05\n",
      "   2  Mean         9.08212e+03   3.34128e+00   4.33069e-03   1.65105e-04\n",
      "   3  Sigma        3.61704e+01   2.06501e+00   1.26293e-05  -4.68870e-03\n",
      " FCN=1.75871 FROM MIGRAD    STATUS=CONVERGED      66 CALLS          67 TOTAL\n",
      "                     EDM=5.43989e-07    STRATEGY= 1      ERROR MATRIX ACCURATE \n",
      "  EXT PARAMETER                                   STEP         FIRST   \n",
      "  NO.   NAME      VALUE            ERROR          SIZE      DERIVATIVE \n",
      "   1  Constant     2.21578e+02   1.91183e+01   1.14005e-02   3.40943e-05\n",
      "   2  Mean         9.31656e+03   2.86792e+00   4.44248e-03  -8.13145e-05\n",
      "   3  Sigma        4.12849e+01   2.19765e+00   9.91749e-06   7.28296e-02\n",
      " FCN=1.96755 FROM MIGRAD    STATUS=CONVERGED      60 CALLS          61 TOTAL\n",
      "                     EDM=6.78557e-08    STRATEGY= 1      ERROR MATRIX ACCURATE \n",
      "  EXT PARAMETER                                   STEP         FIRST   \n",
      "  NO.   NAME      VALUE            ERROR          SIZE      DERIVATIVE \n",
      "   1  Constant     2.20451e+02   1.56570e+01   1.17680e-02   2.09952e-05\n",
      "   2  Mean         9.60353e+03   3.11158e+00   4.57932e-03  -5.00516e-06\n",
      "   3  Sigma        3.98011e+01   1.58439e+00   9.73695e-06   2.76163e-02\n",
      " FCN=4.90305 FROM MIGRAD    STATUS=CONVERGED      70 CALLS          71 TOTAL\n",
      "                     EDM=4.49001e-09    STRATEGY= 1      ERROR MATRIX ACCURATE \n",
      "  EXT PARAMETER                                   STEP         FIRST   \n",
      "  NO.   NAME      VALUE            ERROR          SIZE      DERIVATIVE \n",
      "   1  Constant     2.08437e+02   1.51504e+01   1.58275e-02   2.93063e-06\n",
      "   2  Mean         9.83256e+03   3.08726e+00   4.68853e-03  -7.64490e-07\n",
      "   3  Sigma        4.20083e+01   1.70089e+00   1.26391e-05  -5.26503e-03\n",
      " FCN=1.88673 FROM MIGRAD    STATUS=CONVERGED      59 CALLS          60 TOTAL\n",
      "                     EDM=4.14955e-10    STRATEGY= 1      ERROR MATRIX ACCURATE \n",
      "  EXT PARAMETER                                   STEP         FIRST   \n",
      "  NO.   NAME      VALUE            ERROR          SIZE      DERIVATIVE \n",
      "   1  Constant     2.02020e+02   1.42580e+01   1.06839e-02   2.12410e-06\n",
      "   2  Mean         9.98389e+03   3.11842e+00   4.76069e-03   1.33593e-06\n",
      "   3  Sigma        4.37061e+01   1.65483e+00   9.65403e-06   4.08734e-04\n",
      " FCN=0.999999 FROM MIGRAD    STATUS=CONVERGED      60 CALLS          61 TOTAL\n",
      "                     EDM=1.51751e-09    STRATEGY= 1      ERROR MATRIX ACCURATE \n",
      "  EXT PARAMETER                                   STEP         FIRST   \n",
      "  NO.   NAME      VALUE            ERROR          SIZE      DERIVATIVE \n",
      "   1  Constant     2.08958e+02   1.47014e+01   9.14469e-03  -3.52792e-06\n",
      "   2  Mean         1.02192e+04   3.08802e+00   4.87290e-03  -2.78323e-06\n",
      "   3  Sigma        4.26668e+01   1.62445e+00   7.97153e-06   2.67216e-04\n",
      " FCN=3.12916e-07 FROM MIGRAD    STATUS=CONVERGED      81 CALLS          82 TOTAL\n",
      "                     EDM=6.2596e-07    STRATEGY= 1      ERROR MATRIX ACCURATE \n",
      "  EXT PARAMETER                                   STEP         FIRST   \n",
      "  NO.   NAME      VALUE            ERROR          SIZE      DERIVATIVE \n",
      "   1  Constant     2.24798e+02   1.67999e+01   6.93835e-03   3.26902e-05\n",
      "   2  Mean         1.04572e+04   3.07633e+00   4.98638e-03   3.01527e-04\n",
      "   3  Sigma        3.98210e+01   1.72752e+00   6.09216e-06   1.30586e-02\n",
      " FCN=11.9461 FROM MIGRAD    STATUS=CONVERGED     104 CALLS         105 TOTAL\n",
      "                     EDM=3.2216e-08    STRATEGY= 1      ERROR MATRIX ACCURATE \n",
      "  EXT PARAMETER                                   STEP         FIRST   \n",
      "  NO.   NAME      VALUE            ERROR          SIZE      DERIVATIVE \n",
      "   1  Constant     2.19991e+02   1.79453e+01   2.50402e-02  -9.41295e-06\n",
      "   2  Mean         1.06904e+04   3.14296e+00   5.09756e-03   2.29271e-05\n",
      "   3  Sigma        3.90192e+01   1.90880e+00   1.64564e-05   1.17718e-02\n"
     ]
    }
   ],
   "source": [
    "points = []\n",
    "errors = []\n",
    "\n",
    "for i in range(0,41):\n",
    "    hist2[i].Fit(\"fit\"+str(i))\n",
    "    points.append(float(fit[i].GetParameter(2)))\n",
    "    errors.append(float(fit[i].GetParError(2)))"
   ]
  },
  {
   "cell_type": "code",
   "execution_count": 271,
   "id": "353db6cd",
   "metadata": {},
   "outputs": [],
   "source": [
    "P = []\n",
    "for i in range(41):\n",
    "    P.append(hist2[i].GetStdDev())"
   ]
  },
  {
   "cell_type": "code",
   "execution_count": 272,
   "id": "18233a26",
   "metadata": {},
   "outputs": [
    {
     "name": "stdout",
     "output_type": "stream",
     "text": [
      "[43.573224152436424, 41.746443339181184, 49.6708944752599, 51.21181701482125, 27.058414526388248, 29.924985977332422, 59.16188324605682, 47.19327169525516, 29.86220577853218, 49.54048840856774, 32.080530466899816, 35.51507886518824, 45.44303807333443, 44.33887165237511, 33.475443580572026, 31.866762279994443, 34.76401022766721, 48.43447306692629, 43.01100274214884, 34.56367343655422, 54.106708586628656, 56.20898229069518, 36.00475210313895, 32.85726041198035, 36.8545091395947, 43.86927978514273, 47.4016367779805, 29.246811646757568, 37.0388219667054, 41.82600638788597, 35.00519583933673, 48.05897323848008, 32.1699337651528, 36.43852189718347, 35.1585720179165, 37.17273574785004, 49.33401186334533, 39.559004822647466, 38.62254331103738, 28.956105479497914, 61.96600532873846]\n"
     ]
    }
   ],
   "source": [
    "print(P)"
   ]
  },
  {
   "cell_type": "code",
   "execution_count": 202,
   "id": "97de6fa8",
   "metadata": {},
   "outputs": [
    {
     "name": "stdout",
     "output_type": "stream",
     "text": [
      "[47.72105272841942, 39.84961544964362, 42.248209960327685, 56.25434775161353, 36.97388449704296, 36.30669853226469, 46.41063980640759, 40.164199747626995, 34.807392675596155, 36.794616414409795, 37.181268888650195, 38.54294041411238, 45.85806003527812, 43.33100893634504, 39.25450539385913, 36.36125555831221, 38.97289614797082, 42.607545066286484, 38.46533207801314, 41.329617306166874, 42.59561227020812, 40.67361853096939, 39.718008479215314, 33.7415836763015, 40.14772085070779, 48.71544557791937, 38.032152941534655, 37.89332609572494, 46.831799613226345, 36.05948464295949, 40.2878325072894, 45.99012261625876, 36.962878597573265, 36.17042521216474, 41.28490220509489, 39.80111340533183, 42.00827836470034, 43.706118503585806, 42.66675822571944, 39.820988639825316, 39.01921577409728] [2.3235659290895896, 1.734492842227933, 1.6824283202250925, 4.833017323479314, 1.6577860529267063, 2.083214058635928, 2.6704423758775526, 1.6833826899323157, 1.5927059499730358, 2.9065749259621967, 1.8737158303745574, 1.8391030437878761, 1.820325559000345, 1.6674847323334667, 1.7768357756662603, 2.093167446282017, 1.7446066729943475, 1.9563722703115154, 1.4291076262773217, 1.5249593506275758, 1.876819822561739, 1.957355896447968, 2.6008542454134442, 2.3260625785885676, 1.6160272308038053, 2.4207044542769545, 1.647590155495216, 1.969459181773395, 2.8027265580719565, 2.0475305401849226, 1.5802066272857545, 2.6054011612573724, 1.8467114597387848, 2.065006769417735, 2.1976547005410154, 1.584388782030615, 1.7008851603312394, 1.6548274016532076, 1.6244498565504983, 1.7275218867344293, 1.9087957613054023]\n"
     ]
    }
   ],
   "source": [
    "errors[8] = 1.5927059499730358\n",
    "print(points, errors)"
   ]
  },
  {
   "cell_type": "code",
   "execution_count": 256,
   "id": "27173737",
   "metadata": {},
   "outputs": [],
   "source": [
    "gr = TGraphErrors()"
   ]
  },
  {
   "cell_type": "code",
   "execution_count": 257,
   "id": "f5ece0c1",
   "metadata": {},
   "outputs": [],
   "source": [
    "for i in range(len(points)):\n",
    "    gr.SetPoint(i, (i+7)*0.023 - 2*0.00575, points[i]*1.61)\n",
    "    gr.SetPointError(i, 0, errors[i])"
   ]
  },
  {
   "cell_type": "code",
   "execution_count": 258,
   "id": "9a4f4b68",
   "metadata": {},
   "outputs": [],
   "source": [
    "c1 = TCanvas()"
   ]
  },
  {
   "cell_type": "code",
   "execution_count": 259,
   "id": "7f6e3fdd",
   "metadata": {},
   "outputs": [],
   "source": [
    "gr.GetYaxis().SetRangeUser(0, 85)"
   ]
  },
  {
   "cell_type": "code",
   "execution_count": 260,
   "id": "04d094f5",
   "metadata": {},
   "outputs": [
    {
     "data": {
      "text/plain": [
       "<cppyy.gbl.TFitResultPtr object at 0xe5b42f0>"
      ]
     },
     "execution_count": 260,
     "metadata": {},
     "output_type": "execute_result"
    },
    {
     "name": "stdout",
     "output_type": "stream",
     "text": [
      "\n",
      "****************************************\n",
      "Minimizer is Linear / Migrad\n",
      "Chi2                      =      331.571\n",
      "NDf                       =           40\n",
      "p0                        =      64.7221   +/-   0.293439    \n"
     ]
    },
    {
     "name": "stderr",
     "output_type": "stream",
     "text": [
      "Error in <TFitResultPtr>: TFitResult is empty - use the fit option S\n",
      "Error in <TFitResultPtr>: TFitResult is empty - use the fit option S\n",
      "Error in <TFitResultPtr>: TFitResult is empty - use the fit option S\n",
      "Error in <TFitResultPtr>: TFitResult is empty - use the fit option S\n",
      "Error in <TFitResultPtr>: TFitResult is empty - use the fit option S\n",
      "Error in <TFitResultPtr>: TFitResult is empty - use the fit option S\n",
      "Error in <TFitResultPtr>: TFitResult is empty - use the fit option S\n",
      "Error in <TFitResultPtr>: TFitResult is empty - use the fit option S\n",
      "Error in <TFitResultPtr>: TFitResult is empty - use the fit option S\n",
      "Error in <TFitResultPtr>: TFitResult is empty - use the fit option S\n",
      "Error in <TFitResultPtr>: TFitResult is empty - use the fit option S\n",
      "Error in <TFitResultPtr>: TFitResult is empty - use the fit option S\n",
      "Error in <TFitResultPtr>: TFitResult is empty - use the fit option S\n",
      "Error in <TFitResultPtr>: TFitResult is empty - use the fit option S\n",
      "Error in <TFitResultPtr>: TFitResult is empty - use the fit option S\n",
      "Error in <TFitResultPtr>: TFitResult is empty - use the fit option S\n",
      "Error in <TFitResultPtr>: TFitResult is empty - use the fit option S\n",
      "Error in <TFitResultPtr>: TFitResult is empty - use the fit option S\n",
      "Error in <TFitResultPtr>: TFitResult is empty - use the fit option S\n",
      "Error in <TFitResultPtr>: TFitResult is empty - use the fit option S\n",
      "Error in <TFitResultPtr>: TFitResult is empty - use the fit option S\n",
      "Error in <TFitResultPtr>: TFitResult is empty - use the fit option S\n"
     ]
    }
   ],
   "source": [
    "gr.Fit(\"pol0\")"
   ]
  },
  {
   "cell_type": "code",
   "execution_count": 261,
   "id": "d9d517d1",
   "metadata": {},
   "outputs": [],
   "source": [
    "gr.Draw(\"A*\")"
   ]
  },
  {
   "cell_type": "code",
   "execution_count": 262,
   "id": "d39ec507",
   "metadata": {},
   "outputs": [
    {
     "data": {
      "image/png": "[encoded data removed]",
      "text/plain": [
       "<IPython.core.display.Image object>"
      ]
     },
     "metadata": {},
     "output_type": "display_data"
    }
   ],
   "source": [
    "c1.Draw()"
   ]
  },
  {
   "cell_type": "code",
   "execution_count": null,
   "id": "e79247fe",
   "metadata": {},
   "outputs": [],
   "source": []
  }
 ],
 "metadata": {
  "kernelspec": {
   "display_name": "Python 3 (ipykernel)",
   "language": "python",
   "name": "python3"
  },
  "language_info": {
   "codemirror_mode": {
    "name": "ipython",
    "version": 3
   },
   "file_extension": ".py",
   "mimetype": "text/x-python",
   "name": "python",
   "nbconvert_exporter": "python",
   "pygments_lexer": "ipython3",
   "version": "3.8.10"
  }
 },
 "nbformat": 4,
 "nbformat_minor": 5
}
