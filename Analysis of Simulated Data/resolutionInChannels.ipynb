{
 "cells": [
  {
   "cell_type": "code",
   "execution_count": 1,
   "id": "42a62c3d",
   "metadata": {},
   "outputs": [
    {
     "name": "stdout",
     "output_type": "stream",
     "text": [
      "Welcome to JupyROOT 6.26/00\n"
     ]
    }
   ],
   "source": [
    "from ROOT import *"
   ]
  },
  {
   "cell_type": "code",
   "execution_count": 2,
   "id": "cb6f2653",
   "metadata": {},
   "outputs": [],
   "source": [
    "file = TFile.Open(\"TEST10GeV.root\", \"READ\")\n",
    "tree = file.Get(\"Position\")"
   ]
  },
  {
   "cell_type": "code",
   "execution_count": 3,
   "id": "1bfab3f5",
   "metadata": {},
   "outputs": [],
   "source": [
    "hist = TH1F(\"number of photons per run\", \"\", 10000, 0, 10000)\n",
    "FZ = []\n",
    "FY = []"
   ]
  },
  {
   "cell_type": "code",
   "execution_count": 4,
   "id": "f45847d0",
   "metadata": {},
   "outputs": [],
   "source": [
    "for entry in tree:\n",
    "    hist.Fill(entry.fEvent)\n",
    "    FZ.append(entry.fZ)\n",
    "    FY.append(entry.fY)"
   ]
  },
  {
   "cell_type": "code",
   "execution_count": 5,
   "id": "41c1a7db",
   "metadata": {},
   "outputs": [],
   "source": [
    "S = 0\n",
    "ZY = []\n",
    "for i in range(10000):\n",
    "    N = []\n",
    "    for j in range(S, S + int(hist.GetBinContent(i+1))):\n",
    "        N.append((FZ[j],FY[j]))\n",
    "        S = S + 1\n",
    "    ZY.append(N)"
   ]
  },
  {
   "cell_type": "code",
   "execution_count": 6,
   "id": "12880961",
   "metadata": {},
   "outputs": [],
   "source": [
    "ZY_new = []\n",
    "for i in range(10000):\n",
    "    ZY_new.append(list(set(ZY[i])))"
   ]
  },
  {
   "cell_type": "code",
   "execution_count": 11,
   "id": "b4047360",
   "metadata": {},
   "outputs": [],
   "source": [
    "h2p = TH2Poly(\"123\", \"123\", 0.9, 1.0, -0.04, 0.20);"
   ]
  },
  {
   "cell_type": "code",
   "execution_count": 12,
   "id": "0254af8c",
   "metadata": {},
   "outputs": [],
   "source": [
    "dx=57.5/10000 \n",
    "dy=62.5/10000\n",
    "for i in range(26):\n",
    "    for j in range(225):\n",
    "        h2p.AddBin(dx*j, i*dy-3*dy, (j+1)*dx, (i+1)*dy-3*dy)"
   ]
  },
  {
   "cell_type": "code",
   "execution_count": 13,
   "id": "d9283a8e",
   "metadata": {},
   "outputs": [],
   "source": [
    "for j in range(len(ZY[0])):\n",
    "    h2p.Fill(ZY[0][j][0],ZY[0][j][1])"
   ]
  },
  {
   "cell_type": "code",
   "execution_count": 14,
   "id": "6a45a2af",
   "metadata": {},
   "outputs": [
    {
     "name": "stdout",
     "output_type": "stream",
     "text": [
      "0.968875 0.103125\n"
     ]
    }
   ],
   "source": [
    "a=1\n",
    "print(ZY[0][a][0],ZY[0][a][1])"
   ]
  },
  {
   "cell_type": "code",
   "execution_count": 15,
   "id": "98261506",
   "metadata": {},
   "outputs": [],
   "source": [
    "c2 = TCanvas()"
   ]
  },
  {
   "cell_type": "code",
   "execution_count": 16,
   "id": "7a34cfdb",
   "metadata": {},
   "outputs": [],
   "source": [
    "h2p.Draw(\"TEXT\")"
   ]
  },
  {
   "cell_type": "code",
   "execution_count": 17,
   "id": "1cb9c181",
   "metadata": {},
   "outputs": [
    {
     "data": {
      "image/png": "[encoded data removed]",
      "text/plain": [
       "<IPython.core.display.Image object>"
      ]
     },
     "metadata": {},
     "output_type": "display_data"
    }
   ],
   "source": [
    "c2.Draw()"
   ]
  },
  {
   "cell_type": "code",
   "execution_count": 31,
   "id": "f1900d28",
   "metadata": {},
   "outputs": [],
   "source": [
    "h1p = TH2Poly(\"1231\", \"1231\", 0.9, 1.0, -4-0.04, 0.20-4);"
   ]
  },
  {
   "cell_type": "code",
   "execution_count": 32,
   "id": "0427aa1a",
   "metadata": {},
   "outputs": [],
   "source": [
    "dx=57.5/10000 \n",
    "dy=62.5/10000\n",
    "for i in range(26):\n",
    "    for j in range(225):\n",
    "        h1p.AddBin(dx*j, i*dy-3*dy-4, (j+1)*dx, (i+1)*dy-3*dy-4)"
   ]
  },
  {
   "cell_type": "code",
   "execution_count": 33,
   "id": "d07fc7a1",
   "metadata": {},
   "outputs": [],
   "source": [
    "for j in range(len(ZY_new[0])):\n",
    "    h1p.Fill(ZY_new[0][j][0],ZY_new[0][j][1])"
   ]
  },
  {
   "cell_type": "code",
   "execution_count": 36,
   "id": "6774c56c",
   "metadata": {},
   "outputs": [],
   "source": [
    "c3 = TCanvas()"
   ]
  },
  {
   "cell_type": "code",
   "execution_count": 37,
   "id": "a19415df",
   "metadata": {},
   "outputs": [],
   "source": [
    "h1p.Draw(\"TEXT\")"
   ]
  },
  {
   "cell_type": "code",
   "execution_count": 38,
   "id": "96019e70",
   "metadata": {},
   "outputs": [
    {
     "data": {
      "image/png": "[encoded data removed]",
      "text/plain": [
       "<IPython.core.display.Image object>"
      ]
     },
     "metadata": {},
     "output_type": "display_data"
    }
   ],
   "source": [
    "c3.Draw()"
   ]
  },
  {
   "cell_type": "code",
   "execution_count": 16,
   "id": "f2ca11b0",
   "metadata": {},
   "outputs": [],
   "source": [
    "ZY_NEW = []\n",
    "for i in range(10000):\n",
    "    M = []\n",
    "    for j in range(len(ZY_new[i])):\n",
    "        if ZY_new[i][j][0] >= 0.9085 and ZY_new[i][j][0] <= 1.0005:\n",
    "            M.append(ZY_new[i][j])\n",
    "    ZY_NEW.append(M)"
   ]
  },
  {
   "cell_type": "code",
   "execution_count": 28,
   "id": "50abf7de",
   "metadata": {},
   "outputs": [
    {
     "name": "stderr",
     "output_type": "stream",
     "text": [
      "Warning in <TFile::Append>: Replacing existing TH1: h (Potential memory leak).\n"
     ]
    }
   ],
   "source": [
    "h = TH1F(\"h\", \"\", 50, -50, 50)\n",
    "f = TF1(\"fit\", \"gaus\", -50, 50)"
   ]
  },
  {
   "cell_type": "code",
   "execution_count": 29,
   "id": "f58303e1",
   "metadata": {},
   "outputs": [],
   "source": [
    "S = 0\n",
    "for i in range(0, 10000):\n",
    "    Z = 0.\n",
    "    if len(ZY_NEW[i]) != 0:\n",
    "        for j in range(len(ZY_NEW[i])):\n",
    "            Z = Z + (4*(floor(ZY_NEW[i][j][0]/0.023)+1)-2)*0.00575*10000\n",
    "            S = S + 1\n",
    "        h.Fill(Z/len(ZY_NEW[i]) - 9566)"
   ]
  },
  {
   "cell_type": "code",
   "execution_count": 30,
   "id": "c3bb8269",
   "metadata": {},
   "outputs": [],
   "source": [
    "c = TCanvas()"
   ]
  },
  {
   "cell_type": "code",
   "execution_count": 31,
   "id": "024d1e79",
   "metadata": {},
   "outputs": [],
   "source": [
    "h.Draw()"
   ]
  },
  {
   "cell_type": "code",
   "execution_count": 32,
   "id": "f556389c",
   "metadata": {},
   "outputs": [
    {
     "data": {
      "image/png": "[encoded data removed]",
      "text/plain": [
       "<IPython.core.display.Image object>"
      ]
     },
     "metadata": {},
     "output_type": "display_data"
    }
   ],
   "source": [
    "c.Draw()"
   ]
  },
  {
   "cell_type": "code",
   "execution_count": 33,
   "id": "ae7103bb",
   "metadata": {},
   "outputs": [
    {
     "name": "stdout",
     "output_type": "stream",
     "text": [
      " FCN=582.732 FROM MIGRAD    STATUS=CONVERGED      79 CALLS          80 TOTAL\n",
      "                     EDM=5.82789e-10    STRATEGY= 1      ERROR MATRIX ACCURATE \n",
      "  EXT PARAMETER                                   STEP         FIRST   \n",
      "  NO.   NAME      VALUE            ERROR          SIZE      DERIVATIVE \n",
      "   1  Constant     7.27342e+02   9.98026e+00   9.02433e-02  -3.30491e-06\n",
      "   2  Mean         1.15692e+00   1.06921e-01   1.23048e-03   2.12649e-04\n",
      "   3  Sigma        9.91706e+00   8.73654e-02   2.36825e-05  -7.64772e-03\n"
     ]
    }
   ],
   "source": [
    "points = []\n",
    "errors = []\n",
    "h.Fit(\"fit\")\n",
    "points.append(float(f.GetParameter(2)))\n",
    "errors.append(float(f.GetParError(2)))"
   ]
  },
  {
   "cell_type": "code",
   "execution_count": 34,
   "id": "12857caf",
   "metadata": {},
   "outputs": [
    {
     "name": "stdout",
     "output_type": "stream",
     "text": [
      "23.354681571554924 0.20574553599066472\n"
     ]
    }
   ],
   "source": [
    "print(points[0]*2.355, errors[0]*2.355)"
   ]
  },
  {
   "cell_type": "code",
   "execution_count": 39,
   "id": "6e51d179",
   "metadata": {},
   "outputs": [],
   "source": [
    "c1 = TCanvas()"
   ]
  },
  {
   "cell_type": "code",
   "execution_count": 41,
   "id": "ad9ef67e",
   "metadata": {},
   "outputs": [],
   "source": [
    "h.Draw()\n",
    "h.SetStats(1)\n",
    "h.GetXaxis().SetTitle(\"z /micrometers\")"
   ]
  },
  {
   "cell_type": "code",
   "execution_count": 42,
   "id": "d620fb70",
   "metadata": {},
   "outputs": [
    {
     "data": {
      "image/png": "[encoded data removed]",
      "text/plain": [
       "<IPython.core.display.Image object>"
      ]
     },
     "metadata": {},
     "output_type": "display_data"
    }
   ],
   "source": [
    "c1.Draw()"
   ]
  },
  {
   "cell_type": "code",
   "execution_count": 38,
   "id": "3a2f424f",
   "metadata": {},
   "outputs": [
    {
     "name": "stderr",
     "output_type": "stream",
     "text": [
      "Info in <TCanvas::SaveSource>: C++ Macro file: resol10GeV.C has been generated\n"
     ]
    }
   ],
   "source": [
    "c1.Print(\"resol10GeV.C\")"
   ]
  },
  {
   "cell_type": "code",
   "execution_count": null,
   "id": "3553d9e1",
   "metadata": {},
   "outputs": [],
   "source": []
  }
 ],
 "metadata": {
  "kernelspec": {
   "display_name": "Python 3 (ipykernel)",
   "language": "python",
   "name": "python3"
  },
  "language_info": {
   "codemirror_mode": {
    "name": "ipython",
    "version": 3
   },
   "file_extension": ".py",
   "mimetype": "text/x-python",
   "name": "python",
   "nbconvert_exporter": "python",
   "pygments_lexer": "ipython3",
   "version": "3.8.10"
  }
 },
 "nbformat": 4,
 "nbformat_minor": 5
}
