{
 "cells": [
  {
   "cell_type": "code",
   "execution_count": 1,
   "id": "e8e99c7a",
   "metadata": {},
   "outputs": [
    {
     "name": "stdout",
     "output_type": "stream",
     "text": [
      "Welcome to JupyROOT 6.26/00\n"
     ]
    }
   ],
   "source": [
    "from ROOT import *\n",
    "\n",
    "file = TFile.Open(\"tan1p62.root\", \"READ\")\n",
    "tree = []\n",
    "for i in range(20):\n",
    "    a = file.Get(\"Position\"+str(i+1))\n",
    "    tree.append(a)\n",
    "\n",
    "hist = []\n",
    "for i in range(20):\n",
    "    h = TH1F(\"number of photons per run \"+str(i+1), \"\", 1000, 0, 1000)\n",
    "    hist.append(h)\n",
    "FZX = []\n",
    "FY = []"
   ]
  },
  {
   "cell_type": "code",
   "execution_count": 2,
   "id": "90e4a91c",
   "metadata": {},
   "outputs": [],
   "source": [
    "for i in range(len(tree)):\n",
    "    AZX = []\n",
    "    AY = []\n",
    "    for entry in tree[i]:\n",
    "        hist[i].Fill(entry.N)\n",
    "        AZX.append(entry.fZX)\n",
    "        AY.append(entry.fY)\n",
    "    FZX.append(AZX)\n",
    "    FY.append(AY)"
   ]
  },
  {
   "cell_type": "code",
   "execution_count": 3,
   "id": "f4a7e125",
   "metadata": {},
   "outputs": [],
   "source": [
    "FZXY = []\n",
    "for i in range(20):\n",
    "    S = 0 \n",
    "    fzxy = []\n",
    "    for j in range(1000):\n",
    "        C = []\n",
    "        for k in range(S, S + int(hist[i].GetBinContent(j+1))):\n",
    "            S = S + 1\n",
    "            C.append((FZX[i][k], FY[i][k]))\n",
    "        fzxy.append(C)\n",
    "    FZXY.append(fzxy)"
   ]
  },
  {
   "cell_type": "code",
   "execution_count": 4,
   "id": "92c77af5",
   "metadata": {},
   "outputs": [],
   "source": [
    "FZXY_NEW = []\n",
    "for i in range(20):\n",
    "    FZXY_new = []\n",
    "    for j in range(1000):\n",
    "        FZXY_new.append(list(set(FZXY[i][j])))\n",
    "    FZXY_NEW.append(FZXY_new)"
   ]
  },
  {
   "cell_type": "code",
   "execution_count": 5,
   "id": "945c000b",
   "metadata": {},
   "outputs": [],
   "source": [
    "Z2D = []\n",
    "X2D = []"
   ]
  },
  {
   "cell_type": "code",
   "execution_count": 6,
   "id": "e74c97f7",
   "metadata": {},
   "outputs": [],
   "source": [
    "for i in range(20):\n",
    "    if i%2 == 0:\n",
    "        S = 0\n",
    "        for j in range(1000):\n",
    "            Z = 0.\n",
    "            for k in range(len(FZXY_NEW[i][j])):\n",
    "                Z = Z + (4*(floor(FZXY_NEW[i][j][k][0]/0.023)+1)-2)*0.00575*10000\n",
    "                S = S + 1\n",
    "            Z2D.append(Z/len(FZXY_NEW[i][j]))\n",
    "    else:\n",
    "        G = 0\n",
    "        for m in range(1000):\n",
    "            X = 0.\n",
    "            for n in range(len(FZXY_NEW[i][m])):\n",
    "                X = X + (4*(floor(FZXY_NEW[i][m][n][0]/0.023)+1)-2)*0.00575*10000\n",
    "                G = G + 1\n",
    "            X2D.append(X/len(FZXY_NEW[i][m]))"
   ]
  },
  {
   "cell_type": "code",
   "execution_count": 28,
   "id": "041f4298",
   "metadata": {},
   "outputs": [
    {
     "name": "stderr",
     "output_type": "stream",
     "text": [
      "Warning in <TFile::Append>: Replacing existing TH1: hcor (Potential memory leak).\n"
     ]
    }
   ],
   "source": [
    "gStyle.SetOptStat(1)\n",
    "coor = TCanvas()\n",
    "hcor = TH1F(\"hcor\", \"\", 50, -50, 50)\n",
    "for i in X2D:\n",
    "    hcor.Fill(i+12.62+1.63)\n",
    "hcor.Draw()"
   ]
  },
  {
   "cell_type": "code",
   "execution_count": 29,
   "id": "cbd2bc66",
   "metadata": {},
   "outputs": [
    {
     "data": {
      "image/png": "[encoded data removed]",
      "text/plain": [
       "<IPython.core.display.Image object>"
      ]
     },
     "metadata": {},
     "output_type": "display_data"
    }
   ],
   "source": [
    "coor.Draw()"
   ]
  },
  {
   "cell_type": "code",
   "execution_count": 22,
   "id": "02a79a89",
   "metadata": {},
   "outputs": [
    {
     "name": "stderr",
     "output_type": "stream",
     "text": [
      "Warning in <TFile::Append>: Replacing existing TH1: hLY (Potential memory leak).\n"
     ]
    }
   ],
   "source": [
    "LY = TCanvas()\n",
    "hLY = TH1F(\"hLY\", \"\", 100, 0, 600)\n",
    "for i in range(20):\n",
    "    if i%2==0:\n",
    "        for j in range(1000):\n",
    "            hLY.Fill(hist[i].GetBinContent(j))\n",
    "hLY.Draw()"
   ]
  },
  {
   "cell_type": "code",
   "execution_count": 23,
   "id": "4fffe6df",
   "metadata": {},
   "outputs": [
    {
     "data": {
      "image/png": "[encoded data removed]",
      "text/plain": [
       "<IPython.core.display.Image object>"
      ]
     },
     "metadata": {},
     "output_type": "display_data"
    }
   ],
   "source": [
    "LY.Draw()"
   ]
  },
  {
   "cell_type": "code",
   "execution_count": 25,
   "id": "d77f2a43",
   "metadata": {},
   "outputs": [
    {
     "name": "stderr",
     "output_type": "stream",
     "text": [
      "Info in <TCanvas::SaveSource>: C++ Macro file: G10LY025.C has been generated\n"
     ]
    }
   ],
   "source": [
    "LY.SaveAs(\"G10LY025.C\")"
   ]
  },
  {
   "cell_type": "code",
   "execution_count": 19,
   "id": "ba8cae45",
   "metadata": {},
   "outputs": [],
   "source": [
    "Y = []\n",
    "delZ = 5\n",
    "for i in range(10):\n",
    "    Y.append(-39.4375+(i)*delZ)"
   ]
  },
  {
   "cell_type": "code",
   "execution_count": 8,
   "id": "5c163e66",
   "metadata": {},
   "outputs": [],
   "source": [
    "layers = []\n",
    "for i in range(1000):\n",
    "    l = []\n",
    "    for j in range(10):\n",
    "        l.append(list([Z2D[j*1000+i], Y[j]]))\n",
    "    layers.append(l)"
   ]
  },
  {
   "cell_type": "code",
   "execution_count": 9,
   "id": "28d07681",
   "metadata": {},
   "outputs": [],
   "source": [
    "Z_mean = []\n",
    "for i in range(1000):\n",
    "    zmean = 0\n",
    "    for j in range(10):\n",
    "        zmean = zmean + layers[i][j][0]\n",
    "    Z_mean.append(zmean/10)"
   ]
  },
  {
   "cell_type": "code",
   "execution_count": 10,
   "id": "935e4eda",
   "metadata": {},
   "outputs": [],
   "source": [
    "ymean = 0\n",
    "for i in range(10):\n",
    "    ymean = ymean + Y[i]\n",
    "ymean = ymean/10"
   ]
  },
  {
   "cell_type": "code",
   "execution_count": 16,
   "id": "967e0fc5",
   "metadata": {},
   "outputs": [],
   "source": [
    "Z_mean = []\n",
    "for i in range(1000):\n",
    "    zmean = 0\n",
    "    if i not in I1:\n",
    "        for j in range(10):\n",
    "            zmean = zmean + layers[i][j][0]\n",
    "        Z_mean.append(zmean/10)\n",
    "    else:\n",
    "        for j in range(10):\n",
    "            if j != AA1[I1.index(i)][1].index(max(AA1[I1.index(i)][1])):\n",
    "                zmean = zmean + layers[i][j][0]\n",
    "        Z_mean.append(zmean/9)\n",
    "\n",
    "Y_mean = []\n",
    "for i in range(1000):\n",
    "    ymean = 0\n",
    "    if i not in I1:\n",
    "        for j in range(10):\n",
    "            ymean = ymean + Y[j]\n",
    "        Y_mean.append(ymean/10)\n",
    "    else:\n",
    "        for j in range(10):\n",
    "            if j != AA1[I1.index(i)][1].index(max(AA1[I1.index(i)][1])):\n",
    "                ymean = ymean + Y[j]\n",
    "        Y_mean.append(ymean/9)"
   ]
  },
  {
   "cell_type": "code",
   "execution_count": 20,
   "id": "5c2fb849",
   "metadata": {},
   "outputs": [],
   "source": [
    "Z_mean = []\n",
    "for i in range(1000):\n",
    "    zmean = 0\n",
    "    if i not in I1:\n",
    "        for j in range(10):\n",
    "            zmean = zmean + layers[i][j][0]\n",
    "        Z_mean.append(zmean/10)\n",
    "    elif i in set(I1)-set(I2):\n",
    "        for j in range(10):\n",
    "            if j != AA1[I1.index(i)][1].index(max(AA1[I1.index(i)][1])):\n",
    "                zmean = zmean + layers[i][j][0]\n",
    "        Z_mean.append(zmean/9)\n",
    "    else:\n",
    "        for j in range(10):\n",
    "            if j != AA2[I2.index(i)][1].index(0) and j != AA2[I2.index(i)][1].index(max(AA2[I2.index(i)][1])):\n",
    "                zmean = zmean + layers[i][j][0]\n",
    "        Z_mean.append(zmean/8)\n",
    "\n",
    "Y_mean = []\n",
    "for i in range(1000):\n",
    "    ymean = 0\n",
    "    if i not in I1:\n",
    "        for j in range(10):\n",
    "            ymean = ymean + Y[j]\n",
    "        Y_mean.append(ymean/10)\n",
    "    elif i in set(I1)-set(I2):\n",
    "        for j in range(10):\n",
    "            if j != AA1[I1.index(i)][1].index(max(AA1[I1.index(i)][1])):\n",
    "                ymean = ymean + Y[j]\n",
    "        Y_mean.append(ymean/9)\n",
    "    else:\n",
    "        for j in range(10):\n",
    "            if j != AA2[I2.index(i)][1].index(0) and j != AA2[I2.index(i)][1].index(max(AA2[I2.index(i)][1])):\n",
    "                ymean = ymean + Y[j]\n",
    "        Y_mean.append(ymean/8)"
   ]
  },
  {
   "cell_type": "code",
   "execution_count": 11,
   "id": "be9cc3e3",
   "metadata": {},
   "outputs": [],
   "source": [
    "import math"
   ]
  },
  {
   "cell_type": "code",
   "execution_count": 12,
   "id": "365b7ddb",
   "metadata": {},
   "outputs": [],
   "source": [
    "angles = []\n",
    "k = []\n",
    "for i in range(1000):\n",
    "    denom = 0\n",
    "    numer = 0\n",
    "    for j in range(10):\n",
    "        numer = numer + (layers[i][j][0]/1000 - Z_mean[i]/1000)*(layers[i][j][1] - ymean)\n",
    "        denom = denom + (layers[i][j][0]/1000 - Z_mean[i]/1000)*(layers[i][j][0]/1000 - Z_mean[i]/1000)\n",
    "    angles.append((180/math.pi)*math.atan(numer/denom))\n",
    "    k.append(numer/denom)"
   ]
  },
  {
   "cell_type": "code",
   "execution_count": 13,
   "id": "3617b2b8",
   "metadata": {},
   "outputs": [],
   "source": [
    "b = []\n",
    "for i in range(1000):\n",
    "    Y = 0 \n",
    "    X = 0\n",
    "    for j in range(10):\n",
    "        Y = Y + layers[i][j][1]\n",
    "        X = X + layers[i][j][0]\n",
    "    b.append((Y-k[i]*X/1000)/10)\n",
    "\n",
    "chi = []\n",
    "for i in range(1000):\n",
    "    c = 0\n",
    "    for j in range(10):\n",
    "        c = c + (layers[i][j][1] - k[i]*layers[i][j][0]/1000 - b[i])**2\n",
    "    chi.append(c)\n",
    "\n",
    "AA1 = []\n",
    "I1 = []\n",
    "for i in range(1000):\n",
    "    if chi[i] > 0.1:\n",
    "        A = []\n",
    "        for j in range(10):\n",
    "            c = (layers[i][j][1] - k[i]*layers[i][j][0]/1000 -b[i])**2\n",
    "            A.append(c)\n",
    "        AA1.append([i,A])\n",
    "        I1.append(i)"
   ]
  },
  {
   "cell_type": "code",
   "execution_count": 17,
   "id": "2c53a07d",
   "metadata": {},
   "outputs": [],
   "source": [
    "angles2 = []\n",
    "k1 = []\n",
    "s = 0\n",
    "for i in range(1000):\n",
    "    if i not in I1:\n",
    "        denom = 0\n",
    "        numer = 0\n",
    "        for j in range(10):\n",
    "            numer = numer + (layers[i][j][0]/1000 - Z_mean[i]/1000)*(layers[i][j][1] - Y_mean[i])\n",
    "            denom = denom + (layers[i][j][0]/1000 - Z_mean[i]/1000)*(layers[i][j][0]/1000 - Z_mean[i]/1000)\n",
    "        angles2.append((180/math.pi)*math.atan(numer/denom))\n",
    "    else:\n",
    "        denom = 0\n",
    "        numer = 0\n",
    "        for j in range(10):\n",
    "            if j != AA1[s][1].index(max(AA1[s][1])):\n",
    "                numer = numer + (layers[i][j][0]/1000 - Z_mean[i]/1000)*(layers[i][j][1] - Y_mean[i])\n",
    "                denom = denom + (layers[i][j][0]/1000 - Z_mean[i]/1000)*(layers[i][j][0]/1000 - Z_mean[i]/1000)\n",
    "        angles2.append((180/math.pi)*math.atan(numer/denom))\n",
    "        k1.append(numer/denom)\n",
    "        s = s + 1"
   ]
  },
  {
   "cell_type": "code",
   "execution_count": 18,
   "id": "cb6269a8",
   "metadata": {},
   "outputs": [],
   "source": [
    "b1 = []\n",
    "ss = 0\n",
    "for i in range(len(I1)):\n",
    "    Y = 0 \n",
    "    X = 0\n",
    "    for j in range(10):\n",
    "        if j != AA1[ss][1].index(max(AA1[ss][1])):\n",
    "            Y = Y + layers[I1[i]][j][1]\n",
    "            X = X + layers[I1[i]][j][0] #NOT i \n",
    "    b1.append((Y-k1[i]*X/1000)/9)\n",
    "    ss = ss + 1\n",
    "\n",
    "chi1 = []\n",
    "sss = 0\n",
    "for i in range(len(I1)):\n",
    "    c = 0\n",
    "    for j in range(10):\n",
    "        if j != AA1[sss][1].index(max(AA1[sss][1])):\n",
    "            c = c + (layers[I1[i]][j][1] - k1[i]*layers[I1[i]][j][0]/1000 - b1[i])**2\n",
    "    chi1.append(c)\n",
    "    sss = sss + 1\n",
    "\n",
    "AA2 = []\n",
    "I2 = []\n",
    "for i in range(len(chi1)):\n",
    "    if chi1[i] > 0.09:\n",
    "        A = []\n",
    "        for j in range(10):\n",
    "            if j == AA1[i][1].index(max(AA1[i][1])):\n",
    "                A.append(0)\n",
    "            else:\n",
    "                c = (layers[I1[i]][j][1] - k1[i]*layers[I1[i]][j][0]/1000 - b1[i])**2\n",
    "                A.append(c)\n",
    "        AA2.append([I1[i],A])\n",
    "        I2.append(I1[i])"
   ]
  },
  {
   "cell_type": "code",
   "execution_count": 21,
   "id": "d9be82b0",
   "metadata": {},
   "outputs": [],
   "source": [
    "angles3 = []\n",
    "k2 = []\n",
    "for i in range(1000):\n",
    "    if i not in I1:\n",
    "        denom = 0\n",
    "        numer = 0\n",
    "        for j in range(10):\n",
    "            numer = numer + (layers[i][j][0]/1000 - Z_mean[i]/1000)*(layers[i][j][1] - Y_mean[i])\n",
    "            denom = denom + (layers[i][j][0]/1000 - Z_mean[i]/1000)*(layers[i][j][0]/1000 - Z_mean[i]/1000)\n",
    "        angles3.append((180/math.pi)*math.atan(numer/denom))\n",
    "    elif i in set(I1)-set(I2):\n",
    "        denom = 0\n",
    "        numer = 0\n",
    "        for j in range(10):\n",
    "            if j != AA1[I1.index(i)][1].index(max(AA1[I1.index(i)][1])):\n",
    "                numer = numer + (layers[i][j][0]/1000 - Z_mean[i]/1000)*(layers[i][j][1] - Y_mean[i])\n",
    "                denom = denom + (layers[i][j][0]/1000 - Z_mean[i]/1000)*(layers[i][j][0]/1000 - Z_mean[i]/1000)\n",
    "        angles3.append((180/math.pi)*math.atan(numer/denom))\n",
    "    else:\n",
    "        denom = 0\n",
    "        numer = 0\n",
    "        for j in range(10):\n",
    "            if j != AA2[I2.index(i)][1].index(0) and j != AA2[I2.index(i)][1].index(max(AA2[I2.index(i)][1])):\n",
    "                numer = numer + (layers[i][j][0]/1000 - Z_mean[i]/1000)*(layers[i][j][1] - Y_mean[i])\n",
    "                denom = denom + (layers[i][j][0]/1000 - Z_mean[i]/1000)*(layers[i][j][0]/1000 - Z_mean[i]/1000)\n",
    "        angles3.append((180/math.pi)*math.atan(numer/denom))\n",
    "        k2.append(numer/denom)"
   ]
  },
  {
   "cell_type": "code",
   "execution_count": 29,
   "id": "098c66b2",
   "metadata": {},
   "outputs": [
    {
     "name": "stderr",
     "output_type": "stream",
     "text": [
      "Warning in <TFile::Append>: Replacing existing TH1: han (Potential memory leak).\n",
      "Warning in <TFile::Append>: Replacing existing TH1: han2 (Potential memory leak).\n",
      "Warning in <TFile::Append>: Replacing existing TH1: han3 (Potential memory leak).\n"
     ]
    }
   ],
   "source": [
    "can = TCanvas()\n",
    "hangles = TH1F(\"han\", \"\", 100, 58, 59)\n",
    "hangles2 = TH1F(\"han2\", \"\", 100, 58, 59)\n",
    "hangles3 = TH1F(\"han3\", \"\", 100, 58, 59)\n",
    "\n",
    "for i in range(1000):\n",
    "    hangles.Fill(angles[i])\n",
    "    hangles2.Fill(angles2[i])\n",
    "    hangles3.Fill(angles3[i])\n",
    "\n",
    "gStyle.SetOptStat(0)\n",
    "hangles.GetXaxis().SetTitle(\"incident angle #theta, deg\")\n",
    "hangles.GetXaxis().CenterTitle(True)\n",
    "hangles.GetXaxis().SetTitleFont(132)\n",
    "hangles.GetXaxis().SetTitleSize(0.05)\n",
    "hangles.GetXaxis().SetLabelFont(132)\n",
    "hangles.GetYaxis().SetLabelFont(132)\n",
    "hangles.GetXaxis().SetLabelSize(0.05)\n",
    "hangles.GetYaxis().SetLabelSize(0.05)\n",
    "hangles.SetLineWidth(2)\n",
    "hangles.SetLineColor(8)\n",
    "hangles.SetFillColor(8)\n",
    "hangles.GetYaxis().SetRangeUser(0, 100)\n",
    "hangles.Draw()\n",
    "\n",
    "hangles2.GetXaxis().CenterTitle(True)\n",
    "hangles2.GetXaxis().SetTitleFont(132)\n",
    "hangles2.GetXaxis().SetTitleSize(0.05)\n",
    "hangles2.GetXaxis().SetLabelFont(132)\n",
    "hangles2.GetYaxis().SetLabelFont(132)\n",
    "hangles2.GetXaxis().SetLabelSize(0.05)\n",
    "hangles2.GetYaxis().SetLabelSize(0.05)\n",
    "hangles2.SetLineWidth(2)\n",
    "hangles2.SetLineColor(kRed)\n",
    "hangles2.SetFillColorAlpha(kRed, 0.35)\n",
    "hangles2.Draw(\"SAME\")\n",
    "\n",
    "hangles3.GetXaxis().CenterTitle(True)\n",
    "hangles3.GetXaxis().SetTitleFont(132)\n",
    "hangles3.GetXaxis().SetTitleSize(0.05)\n",
    "hangles3.GetXaxis().SetLabelFont(132)\n",
    "hangles3.GetYaxis().SetLabelFont(132)\n",
    "hangles3.GetXaxis().SetLabelSize(0.05)\n",
    "hangles3.GetYaxis().SetLabelSize(0.05)\n",
    "hangles3.SetLineWidth(2)\n",
    "hangles3.SetLineColor(kBlue)\n",
    "hangles3.SetFillColorAlpha(kBlue, 0.2)\n",
    "hangles3.Draw(\"SAME\")"
   ]
  },
  {
   "cell_type": "code",
   "execution_count": 34,
   "id": "c341e191",
   "metadata": {},
   "outputs": [
    {
     "data": {
      "text/plain": [
       "<cppyy.gbl.TFitResultPtr object at 0xfc93830>"
      ]
     },
     "execution_count": 34,
     "metadata": {},
     "output_type": "execute_result"
    },
    {
     "name": "stdout",
     "output_type": "stream",
     "text": [
      " FCN=114.288 FROM MIGRAD    STATUS=CONVERGED      93 CALLS          94 TOTAL\n",
      "                     EDM=7.6711e-08    STRATEGY= 1      ERROR MATRIX ACCURATE \n",
      "  EXT PARAMETER                                   STEP         FIRST   \n",
      "  NO.   NAME      VALUE            ERROR          SIZE      DERIVATIVE \n",
      "   1  Constant     6.62674e+01   3.35964e+00   1.18373e-02   1.10232e-04\n",
      "   2  Mean         5.85177e+01   1.76740e-03   2.79034e-05  -9.30858e-02\n",
      "   3  Sigma        5.18774e-02   1.94725e-03   3.31049e-05   5.62971e-02\n"
     ]
    },
    {
     "name": "stderr",
     "output_type": "stream",
     "text": [
      "Error in <TFitResultPtr>: TFitResult is empty - use the fit option S\n",
      "Error in <TFitResultPtr>: TFitResult is empty - use the fit option S\n",
      "Error in <TFitResultPtr>: TFitResult is empty - use the fit option S\n",
      "Error in <TFitResultPtr>: TFitResult is empty - use the fit option S\n",
      "Error in <TFitResultPtr>: TFitResult is empty - use the fit option S\n",
      "Error in <TFitResultPtr>: TFitResult is empty - use the fit option S\n",
      "Error in <TFitResultPtr>: TFitResult is empty - use the fit option S\n",
      "Error in <TFitResultPtr>: TFitResult is empty - use the fit option S\n",
      "Error in <TFitResultPtr>: TFitResult is empty - use the fit option S\n",
      "Error in <TFitResultPtr>: TFitResult is empty - use the fit option S\n",
      "Error in <TFitResultPtr>: TFitResult is empty - use the fit option S\n",
      "Error in <TFitResultPtr>: TFitResult is empty - use the fit option S\n",
      "Error in <TFitResultPtr>: TFitResult is empty - use the fit option S\n",
      "Error in <TFitResultPtr>: TFitResult is empty - use the fit option S\n",
      "Error in <TFitResultPtr>: TFitResult is empty - use the fit option S\n",
      "Error in <TFitResultPtr>: TFitResult is empty - use the fit option S\n",
      "Error in <TFitResultPtr>: TFitResult is empty - use the fit option S\n",
      "Error in <TFitResultPtr>: TFitResult is empty - use the fit option S\n",
      "Error in <TFitResultPtr>: TFitResult is empty - use the fit option S\n",
      "Error in <TFitResultPtr>: TFitResult is empty - use the fit option S\n",
      "Error in <TFitResultPtr>: TFitResult is empty - use the fit option S\n",
      "Error in <TFitResultPtr>: TFitResult is empty - use the fit option S\n"
     ]
    }
   ],
   "source": [
    "f = TF1(\"f\", \"gaus\", 58, 59)\n",
    "hangles3.Fit(\"f\")"
   ]
  },
  {
   "cell_type": "code",
   "execution_count": 35,
   "id": "fb57f55d",
   "metadata": {},
   "outputs": [
    {
     "data": {
      "image/png": "[encoded data removed]",
      "text/plain": [
       "<IPython.core.display.Image object>"
      ]
     },
     "metadata": {},
     "output_type": "display_data"
    }
   ],
   "source": [
    "can.Draw()"
   ]
  },
  {
   "cell_type": "code",
   "execution_count": 28,
   "id": "9b7f5378",
   "metadata": {},
   "outputs": [
    {
     "name": "stderr",
     "output_type": "stream",
     "text": [
      "Info in <TCanvas::SaveSource>: C++ Macro file: 10GeVang.C has been generated\n"
     ]
    }
   ],
   "source": [
    "can.Print(\"10GeVang.C\")"
   ]
  },
  {
   "cell_type": "code",
   "execution_count": 31,
   "id": "362ef9d7",
   "metadata": {},
   "outputs": [
    {
     "name": "stdout",
     "output_type": "stream",
     "text": [
      "46 21.0\n",
      "47 25.0\n",
      "48 20.0\n",
      "49 21.0\n",
      "50 34.0\n",
      "51 28.0\n",
      "52 38.0\n",
      "53 25.0\n",
      "54 29.0\n",
      "55 21.0\n",
      "56 28.0\n",
      "58 20.0\n",
      "310.0\n"
     ]
    }
   ],
   "source": [
    "a = []\n",
    "for i in range(100):\n",
    "    a.append(hangles.GetBinContent(i+1))\n",
    "s = 0\n",
    "for i in range(100):\n",
    "    if hangles.GetBinContent(i+1) > max(a)/2:\n",
    "        s = s + hangles.GetBinContent(i+1)\n",
    "        print(i+1, hangles.GetBinContent(i+1))\n",
    "print(s)"
   ]
  },
  {
   "cell_type": "code",
   "execution_count": 32,
   "id": "7faeba94",
   "metadata": {},
   "outputs": [
    {
     "name": "stdout",
     "output_type": "stream",
     "text": [
      "48 42.0\n",
      "49 50.0\n",
      "50 45.0\n",
      "51 62.0\n",
      "52 74.0\n",
      "53 58.0\n",
      "54 48.0\n",
      "55 44.0\n",
      "56 40.0\n",
      "463.0\n"
     ]
    }
   ],
   "source": [
    "a = []\n",
    "for i in range(100):\n",
    "    a.append(hangles2.GetBinContent(i+1))\n",
    "s = 0\n",
    "for i in range(100):\n",
    "    if hangles2.GetBinContent(i+1) > max(a)/2:\n",
    "        s = s + hangles2.GetBinContent(i+1)\n",
    "        print(i+1, hangles2.GetBinContent(i+1))\n",
    "print(s)"
   ]
  },
  {
   "cell_type": "code",
   "execution_count": 33,
   "id": "85ad5781",
   "metadata": {},
   "outputs": [
    {
     "name": "stdout",
     "output_type": "stream",
     "text": [
      "48 45.0\n",
      "49 62.0\n",
      "50 58.0\n",
      "51 77.0\n",
      "52 88.0\n",
      "53 68.0\n",
      "54 69.0\n",
      "55 59.0\n",
      "56 46.0\n",
      "572.0\n"
     ]
    }
   ],
   "source": [
    "a = []\n",
    "for i in range(100):\n",
    "    a.append(hangles3.GetBinContent(i+1))\n",
    "s = 0\n",
    "for i in range(100):\n",
    "    if hangles3.GetBinContent(i+1) > max(a)/2:\n",
    "        s = s + hangles3.GetBinContent(i+1)\n",
    "        print(i+1, hangles3.GetBinContent(i+1))\n",
    "print(s)"
   ]
  },
  {
   "cell_type": "code",
   "execution_count": 8,
   "id": "cb6425f0",
   "metadata": {},
   "outputs": [],
   "source": [
    "tan1p62 = TH2F(\"tan1p62\", \"\", 400, -25, 25, 400, -19, 31)\n",
    "for i in range(len(Z2D)):\n",
    "    tan1p62.Fill(X2D[i]/1000+13.892031391682115/1000, Z2D[i]/1000+13.892031391682115/1000)"
   ]
  },
  {
   "cell_type": "code",
   "execution_count": null,
   "id": "080e5a44",
   "metadata": {},
   "outputs": [],
   "source": [
    "c3 = TCanvas()\n",
    "tan1p62.Draw(\"COLZ\")"
   ]
  },
  {
   "cell_type": "code",
   "execution_count": 20,
   "id": "a9c8165f",
   "metadata": {},
   "outputs": [
    {
     "data": {
      "image/png": "[encoded data removed]",
      "text/plain": [
       "<IPython.core.display.Image object>"
      ]
     },
     "metadata": {},
     "output_type": "display_data"
    }
   ],
   "source": [
    "c3.Draw()"
   ]
  },
  {
   "cell_type": "code",
   "execution_count": 21,
   "id": "b05f31a3",
   "metadata": {},
   "outputs": [
    {
     "data": {
      "text/plain": [
       "8736"
      ]
     },
     "execution_count": 21,
     "metadata": {},
     "output_type": "execute_result"
    }
   ],
   "source": [
    "myFile = TFile.Open(\"2Ds.root\", \"UPDATE\")\n",
    "myFile.WriteObject(tan1p62, \"tan1p62\")"
   ]
  },
  {
   "cell_type": "code",
   "execution_count": 22,
   "id": "619063fa",
   "metadata": {},
   "outputs": [],
   "source": [
    "myFile.Close()"
   ]
  },
  {
   "cell_type": "code",
   "execution_count": null,
   "id": "b60f6776",
   "metadata": {},
   "outputs": [],
   "source": []
  }
 ],
 "metadata": {
  "kernelspec": {
   "display_name": "Python 3 (ipykernel)",
   "language": "python",
   "name": "python3"
  },
  "language_info": {
   "codemirror_mode": {
    "name": "ipython",
    "version": 3
   },
   "file_extension": ".py",
   "mimetype": "text/x-python",
   "name": "python",
   "nbconvert_exporter": "python",
   "pygments_lexer": "ipython3",
   "version": "3.8.10"
  }
 },
 "nbformat": 4,
 "nbformat_minor": 5
}
